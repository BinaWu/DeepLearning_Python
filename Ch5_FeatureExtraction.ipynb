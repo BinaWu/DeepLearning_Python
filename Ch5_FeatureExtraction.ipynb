{
  "nbformat": 4,
  "nbformat_minor": 0,
  "metadata": {
    "colab": {
      "name": "Ch5_FeatureExtraction.ipynb",
      "version": "0.3.2",
      "provenance": [],
      "collapsed_sections": [],
      "include_colab_link": true
    },
    "kernelspec": {
      "name": "python3",
      "display_name": "Python 3"
    },
    "accelerator": "GPU"
  },
  "cells": [
    {
      "cell_type": "markdown",
      "metadata": {
        "id": "view-in-github",
        "colab_type": "text"
      },
      "source": [
        "<a href=\"https://colab.research.google.com/github/BinaWu/DeepLearning_Python/blob/master/Ch5_FeatureExtraction.ipynb\" target=\"_parent\"><img src=\"https://colab.research.google.com/assets/colab-badge.svg\" alt=\"Open In Colab\"/></a>"
      ]
    },
    {
      "metadata": {
        "id": "5C9xdAWnlwtM",
        "colab_type": "code",
        "outputId": "9ddc5371-486b-4382-dea0-a2a3c0cbb3a2",
        "colab": {
          "base_uri": "https://localhost:8080/",
          "height": 34
        }
      },
      "cell_type": "code",
      "source": [
        "import keras\n",
        "keras.__version__"
      ],
      "execution_count": 0,
      "outputs": [
        {
          "output_type": "execute_result",
          "data": {
            "text/plain": [
              "'2.2.4'"
            ]
          },
          "metadata": {
            "tags": []
          },
          "execution_count": 4
        }
      ]
    },
    {
      "metadata": {
        "id": "-7K9eMxvlwtT",
        "colab_type": "text"
      },
      "cell_type": "markdown",
      "source": [
        "# 5.1 - Introduction to convnets\n",
        "\n",
        "This notebook contains the code sample found in Chapter 5, Section 1 of [Deep Learning with Python](https://www.manning.com/books/deep-learning-with-python?a_aid=keras&a_bid=76564dff). Note that the original text features far more content, in particular further explanations and figures: in this notebook, you will only find source code and related comments.\n",
        "\n",
        "----\n",
        "\n",
        "First, let's take a practical look at a very simple convnet example. We will use our convnet to classify MNIST digits, a task that you've already been \n",
        "through in Chapter 2, using a densely-connected network (our test accuracy then was 97.8%). Even though our convnet will be very basic, its \n",
        "accuracy will still blow out of the water that of the densely-connected model from Chapter 2.\n",
        "\n",
        "The 6 lines of code below show you what a basic convnet looks like. It's a stack of `Conv2D` and `MaxPooling2D` layers. We'll see in a \n",
        "minute what they do concretely.\n",
        "Importantly, a convnet takes as input tensors of shape `(image_height, image_width, image_channels)` (not including the batch dimension). \n",
        "In our case, we will configure our convnet to process inputs of size `(28, 28, 1)`, which is the format of MNIST images. We do this via \n",
        "passing the argument `input_shape=(28, 28, 1)` to our first layer."
      ]
    },
    {
      "metadata": {
        "id": "y4Cbnuy-lwtU",
        "colab_type": "code",
        "colab": {}
      },
      "cell_type": "code",
      "source": [
        "from keras import layers\n",
        "from keras import models\n",
        "\n",
        "model = models.Sequential()\n",
        "model.add(layers.Conv2D(32, (3, 3), activation='relu', input_shape=(28, 28, 1)))#Convolution\n",
        "model.add(layers.MaxPooling2D((2, 2)))\n",
        "model.add(layers.Conv2D(64, (3, 3), activation='relu'))\n",
        "model.add(layers.MaxPooling2D((2, 2)))\n",
        "model.add(layers.Conv2D(64, (3, 3), activation='relu'))"
      ],
      "execution_count": 0,
      "outputs": []
    },
    {
      "metadata": {
        "id": "h3Be6ytIlwtW",
        "colab_type": "text"
      },
      "cell_type": "markdown",
      "source": [
        "Let's display the architecture of our convnet so far:"
      ]
    },
    {
      "metadata": {
        "id": "UKGGYs9zlwtX",
        "colab_type": "code",
        "outputId": "f5cc9869-845a-41f8-c0ec-61b9618e1b25",
        "colab": {
          "base_uri": "https://localhost:8080/",
          "height": 302
        }
      },
      "cell_type": "code",
      "source": [
        "model.summary()"
      ],
      "execution_count": 0,
      "outputs": [
        {
          "output_type": "stream",
          "text": [
            "_________________________________________________________________\n",
            "Layer (type)                 Output Shape              Param #   \n",
            "=================================================================\n",
            "conv2d_95 (Conv2D)           (None, 26, 26, 32)        320       \n",
            "_________________________________________________________________\n",
            "max_pooling2d_5 (MaxPooling2 (None, 13, 13, 32)        0         \n",
            "_________________________________________________________________\n",
            "conv2d_96 (Conv2D)           (None, 11, 11, 64)        18496     \n",
            "_________________________________________________________________\n",
            "max_pooling2d_6 (MaxPooling2 (None, 5, 5, 64)          0         \n",
            "_________________________________________________________________\n",
            "conv2d_97 (Conv2D)           (None, 3, 3, 64)          36928     \n",
            "=================================================================\n",
            "Total params: 55,744\n",
            "Trainable params: 55,744\n",
            "Non-trainable params: 0\n",
            "_________________________________________________________________\n"
          ],
          "name": "stdout"
        }
      ]
    },
    {
      "metadata": {
        "id": "3Zyndor7lwtb",
        "colab_type": "text"
      },
      "cell_type": "markdown",
      "source": [
        "You can see above that the output of every `Conv2D` and `MaxPooling2D` layer is a 3D tensor of shape `(height, width, channels)`. The width \n",
        "and height dimensions tend to shrink as we go deeper in the network. The number of channels is controlled by the first argument passed to \n",
        "the `Conv2D` layers (e.g. 32 or 64).\n",
        "\n",
        "The next step would be to feed our last output tensor (of shape `(3, 3, 64)`) into a densely-connected classifier network like those you are \n",
        "already familiar with: a stack of `Dense` layers. These classifiers process vectors, which are 1D, whereas our current output is a 3D tensor. \n",
        "So first, we will have to flatten our 3D outputs to 1D, and then add a few `Dense` layers on top:"
      ]
    },
    {
      "metadata": {
        "id": "nt6twUXdlwtb",
        "colab_type": "code",
        "colab": {}
      },
      "cell_type": "code",
      "source": [
        "#分類層\n",
        "model.add(layers.Flatten())\n",
        "model.add(layers.Dense(64, activation='relu'))\n",
        "model.add(layers.Dense(10, activation='softmax'))"
      ],
      "execution_count": 0,
      "outputs": []
    },
    {
      "metadata": {
        "id": "OKAXQemnlwte",
        "colab_type": "text"
      },
      "cell_type": "markdown",
      "source": [
        "We are going to do 10-way classification, so we use a final layer with 10 outputs and a softmax activation. Now here's what our network \n",
        "looks like:"
      ]
    },
    {
      "metadata": {
        "id": "oTvQvlstlwte",
        "colab_type": "code",
        "outputId": "d0462e4d-d6d1-40c6-f349-79c3be46f54e",
        "colab": {
          "base_uri": "https://localhost:8080/",
          "height": 403
        }
      },
      "cell_type": "code",
      "source": [
        "model.summary()"
      ],
      "execution_count": 0,
      "outputs": [
        {
          "output_type": "stream",
          "text": [
            "_________________________________________________________________\n",
            "Layer (type)                 Output Shape              Param #   \n",
            "=================================================================\n",
            "conv2d_95 (Conv2D)           (None, 26, 26, 32)        320       \n",
            "_________________________________________________________________\n",
            "max_pooling2d_5 (MaxPooling2 (None, 13, 13, 32)        0         \n",
            "_________________________________________________________________\n",
            "conv2d_96 (Conv2D)           (None, 11, 11, 64)        18496     \n",
            "_________________________________________________________________\n",
            "max_pooling2d_6 (MaxPooling2 (None, 5, 5, 64)          0         \n",
            "_________________________________________________________________\n",
            "conv2d_97 (Conv2D)           (None, 3, 3, 64)          36928     \n",
            "_________________________________________________________________\n",
            "flatten_1 (Flatten)          (None, 576)               0         \n",
            "_________________________________________________________________\n",
            "dense_1 (Dense)              (None, 64)                36928     \n",
            "_________________________________________________________________\n",
            "dense_2 (Dense)              (None, 10)                650       \n",
            "=================================================================\n",
            "Total params: 93,322\n",
            "Trainable params: 93,322\n",
            "Non-trainable params: 0\n",
            "_________________________________________________________________\n"
          ],
          "name": "stdout"
        }
      ]
    },
    {
      "metadata": {
        "id": "6I2SFwj0lwth",
        "colab_type": "text"
      },
      "cell_type": "markdown",
      "source": [
        "As you can see, our `(3, 3, 64)` outputs were flattened into vectors of shape `(576,)`, before going through two `Dense` layers.\n",
        "\n",
        "Now, let's train our convnet on the MNIST digits. We will reuse a lot of the code we have already covered in the MNIST example from Chapter \n",
        "2."
      ]
    },
    {
      "metadata": {
        "id": "kQaIYnlDlwth",
        "colab_type": "code",
        "outputId": "8d00da2a-311b-4489-da04-08469244d063",
        "colab": {
          "base_uri": "https://localhost:8080/",
          "height": 50
        }
      },
      "cell_type": "code",
      "source": [
        "from keras.datasets import mnist\n",
        "from keras.utils import to_categorical\n",
        "\n",
        "(train_images, train_labels), (test_images, test_labels) = mnist.load_data()\n",
        "\n",
        "train_images = train_images.reshape((60000, 28, 28, 1))\n",
        "train_images = train_images.astype('float32') / 255\n",
        "\n",
        "test_images = test_images.reshape((10000, 28, 28, 1))\n",
        "test_images = test_images.astype('float32') / 255\n",
        "\n",
        "train_labels = to_categorical(train_labels)\n",
        "test_labels = to_categorical(test_labels)"
      ],
      "execution_count": 0,
      "outputs": [
        {
          "output_type": "stream",
          "text": [
            "Downloading data from https://s3.amazonaws.com/img-datasets/mnist.npz\n",
            "11493376/11490434 [==============================] - 1s 0us/step\n"
          ],
          "name": "stdout"
        }
      ]
    },
    {
      "metadata": {
        "id": "CZJYIBP-lwto",
        "colab_type": "code",
        "outputId": "8b5bc4c3-2919-4029-ee47-3ed046272c51",
        "colab": {
          "base_uri": "https://localhost:8080/",
          "height": 202
        }
      },
      "cell_type": "code",
      "source": [
        "model.compile(optimizer='rmsprop',\n",
        "              loss='categorical_crossentropy',\n",
        "              metrics=['accuracy'])\n",
        "model.fit(train_images, train_labels, epochs=5, batch_size=64)"
      ],
      "execution_count": 0,
      "outputs": [
        {
          "output_type": "stream",
          "text": [
            "Epoch 1/5\n",
            "60000/60000 [==============================] - 14s 229us/step - loss: 0.1730 - acc: 0.9452\n",
            "Epoch 2/5\n",
            "60000/60000 [==============================] - 10s 168us/step - loss: 0.0467 - acc: 0.9850\n",
            "Epoch 3/5\n",
            "60000/60000 [==============================] - 10s 167us/step - loss: 0.0320 - acc: 0.9897\n",
            "Epoch 4/5\n",
            "60000/60000 [==============================] - 10s 167us/step - loss: 0.0240 - acc: 0.9922\n",
            "Epoch 5/5\n",
            "60000/60000 [==============================] - 10s 167us/step - loss: 0.0195 - acc: 0.9941\n"
          ],
          "name": "stdout"
        },
        {
          "output_type": "execute_result",
          "data": {
            "text/plain": [
              "<keras.callbacks.History at 0x7f8c31406a90>"
            ]
          },
          "metadata": {
            "tags": []
          },
          "execution_count": 10
        }
      ]
    },
    {
      "metadata": {
        "id": "fVli1J5slwtx",
        "colab_type": "text"
      },
      "cell_type": "markdown",
      "source": [
        "Let's evaluate the model on the test data:"
      ]
    },
    {
      "metadata": {
        "id": "58xkIgSRlwty",
        "colab_type": "code",
        "outputId": "086aeff0-7e43-4ddc-b032-349604851d6d",
        "colab": {
          "base_uri": "https://localhost:8080/",
          "height": 34
        }
      },
      "cell_type": "code",
      "source": [
        "test_loss, test_acc = model.evaluate(test_images, test_labels)"
      ],
      "execution_count": 0,
      "outputs": [
        {
          "output_type": "stream",
          "text": [
            "10000/10000 [==============================] - 2s 158us/step\n"
          ],
          "name": "stdout"
        }
      ]
    },
    {
      "metadata": {
        "id": "s3cGHkLwlwt2",
        "colab_type": "code",
        "outputId": "9f1b63f5-be19-4369-b4b7-06c7522ceb7e",
        "colab": {
          "base_uri": "https://localhost:8080/",
          "height": 34
        }
      },
      "cell_type": "code",
      "source": [
        "test_acc"
      ],
      "execution_count": 0,
      "outputs": [
        {
          "output_type": "execute_result",
          "data": {
            "text/plain": [
              "0.9914"
            ]
          },
          "metadata": {
            "tags": []
          },
          "execution_count": 12
        }
      ]
    },
    {
      "metadata": {
        "id": "Sk3uCR6plwt6",
        "colab_type": "text"
      },
      "cell_type": "markdown",
      "source": [
        "While our densely-connected network from Chapter 2 had a test accuracy of 97.8%, our basic convnet has a test accuracy of 99.3%: we \n",
        "decreased our error rate by 68% (relative). Not bad! "
      ]
    },
    {
      "metadata": {
        "id": "aoD6_neOmJ5U",
        "colab_type": "text"
      },
      "cell_type": "markdown",
      "source": [
        "# 5.2 - Using convnets with small datasets\n",
        "\n",
        "This notebook contains the code sample found in Chapter 5, Section 2 of [Deep Learning with Python](https://www.manning.com/books/deep-learning-with-python?a_aid=keras&a_bid=76564dff). Note that the original text features far more content, in particular further explanations and figures: in this notebook, you will only find source code and related comments.\n",
        "\n",
        "## Training a convnet from scratch on a small dataset\n",
        "\n",
        "Having to train an image classification model using only very little data is a common situation, which you likely encounter yourself in \n",
        "practice if you ever do computer vision in a professional context.\n",
        "\n",
        "Having \"few\" samples can mean anywhere from a few hundreds to a few tens of thousands of images. As a practical example, we will focus on \n",
        "classifying images as \"dogs\" or \"cats\", in a dataset containing 4000 pictures of cats and dogs (2000 cats, 2000 dogs). We will use 2000 \n",
        "pictures for training, 1000 for validation, and finally 1000 for testing.\n",
        "\n",
        "In this section, we will review one basic strategy to tackle this problem: training a new model from scratch on what little data we have. We \n",
        "will start by naively training a small convnet on our 2000 training samples, without any regularization, to set a baseline for what can be \n",
        "achieved. This will get us to a classification accuracy of 71%. At that point, our main issue will be overfitting. Then we will introduce \n",
        "*data augmentation*, a powerful technique for mitigating overfitting in computer vision. By leveraging data augmentation, we will improve \n",
        "our network to reach an accuracy of 82%.\n",
        "\n",
        "In the next section, we will review two more essential techniques for applying deep learning to small datasets: *doing feature extraction \n",
        "with a pre-trained network* (this will get us to an accuracy of 90% to 93%), and *fine-tuning a pre-trained network* (this will get us to \n",
        "our final accuracy of 95%). Together, these three strategies -- training a small model from scratch, doing feature extracting using a \n",
        "pre-trained model, and fine-tuning a pre-trained model -- will constitute your future toolbox for tackling the problem of doing computer \n",
        "vision with small datasets."
      ]
    },
    {
      "metadata": {
        "id": "NJpyAqQemJ5U",
        "colab_type": "text"
      },
      "cell_type": "markdown",
      "source": [
        "## The relevance of deep learning for small-data problems\n",
        "\n",
        "You will sometimes hear that deep learning only works when lots of data is available. This is in part a valid point: one fundamental \n",
        "characteristic of deep learning is that it is able to find interesting features in the training data on its own, without any need for manual \n",
        "feature engineering, and this can only be achieved when lots of training examples are available. This is especially true for problems where \n",
        "the input samples are very high-dimensional, like images.\n",
        "\n",
        "However, what constitutes \"lots\" of samples is relative -- relative to the size and depth of the network you are trying to train, for \n",
        "starters. It isn't possible to train a convnet to solve a complex problem with just a few tens of samples, but a few hundreds can \n",
        "potentially suffice if the model is small and well-regularized and if the task is simple. \n",
        "Because convnets learn local, translation-invariant features, they are very \n",
        "data-efficient on perceptual problems. Training a convnet from scratch on a very small image dataset will still yield reasonable results \n",
        "despite a relative lack of data, without the need for any custom feature engineering. You will see this in action in this section.\n",
        "\n",
        "But what's more, deep learning models are by nature highly repurposable: you can take, say, an image classification or speech-to-text model \n",
        "trained on a large-scale dataset then reuse it on a significantly different problem with only minor changes. Specifically, in the case of \n",
        "computer vision, many pre-trained models (usually trained on the ImageNet dataset) are now publicly available for download and can be used \n",
        "to bootstrap powerful vision models out of very little data. That's what we will do in the next section.\n",
        "\n",
        "For now, let's get started by getting our hands on the data."
      ]
    },
    {
      "metadata": {
        "id": "0vmptmV9mJ5V",
        "colab_type": "text"
      },
      "cell_type": "markdown",
      "source": [
        "## Downloading the data\n",
        "\n",
        "The cats vs. dogs dataset that we will use isn't packaged with Keras. It was made available by Kaggle.com as part of a computer vision \n",
        "competition in late 2013, back when convnets weren't quite mainstream. You can download the original dataset at: \n",
        "`https://www.kaggle.com/c/dogs-vs-cats/data` (you will need to create a Kaggle account if you don't already have one -- don't worry, the \n",
        "process is painless).\n",
        "\n",
        "The pictures are medium-resolution color JPEGs. They look like this:\n",
        "\n",
        "![cats_vs_dogs_samples](https://s3.amazonaws.com/book.keras.io/img/ch5/cats_vs_dogs_samples.jpg)"
      ]
    },
    {
      "metadata": {
        "id": "_ClLVabqxUoE",
        "colab_type": "code",
        "outputId": "28141cb5-c8bb-46da-b6a9-f44c0dd74740",
        "colab": {
          "base_uri": "https://localhost:8080/",
          "height": 1364
        }
      },
      "cell_type": "code",
      "source": [
        "!wget --no-check-certificate -r 'https://docs.google.com/uc?export=download&id=17_3k75AIWlX6JW34zhGyKm4b7RD4e2jo' -O train.zip\n",
        "\n",
        "import zipfile\n",
        "with zipfile.ZipFile(open('train.zip', 'rb')) as f:\n",
        "    f.extractall()\n"
      ],
      "execution_count": 0,
      "outputs": [
        {
          "output_type": "stream",
          "text": [
            "WARNING: combining -O with -r or -p will mean that all downloaded content\n",
            "will be placed in the single file you specified.\n",
            "\n",
            "--2018-11-16 06:55:29--  https://docs.google.com/uc?export=download&id=17_3k75AIWlX6JW34zhGyKm4b7RD4e2jo\n",
            "Resolving docs.google.com (docs.google.com)... 64.233.167.102, 64.233.167.113, 64.233.167.139, ...\n",
            "Connecting to docs.google.com (docs.google.com)|64.233.167.102|:443... connected.\n",
            "HTTP request sent, awaiting response... 200 OK\n",
            "Length: unspecified [text/html]\n",
            "Saving to: ‘train.zip’\n",
            "\n",
            "\rtrain.zip               [<=>                 ]       0  --.-KB/s               \rtrain.zip               [ <=>                ]   3.17K  --.-KB/s    in 0s      \n",
            "\n",
            "2018-11-16 06:55:30 (34.0 MB/s) - ‘train.zip’ saved [3242]\n",
            "\n",
            "Loading robots.txt; please ignore errors.\n",
            "--2018-11-16 06:55:30--  https://docs.google.com/robots.txt\n",
            "Reusing existing connection to docs.google.com:443.\n",
            "HTTP request sent, awaiting response... 200 OK\n",
            "Length: unspecified [text/plain]\n",
            "Saving to: ‘train.zip’\n",
            "\n",
            "\rtrain.zip               [<=>                 ]       0  --.-KB/s               \rtrain.zip               [ <=>                ]     567  --.-KB/s    in 0s      \n",
            "\n",
            "2018-11-16 06:55:30 (33.2 MB/s) - ‘train.zip’ saved [567]\n",
            "\n",
            "--2018-11-16 06:55:30--  https://docs.google.com/static/doclist/client/css/2136187878-untrustedcontent.css\n",
            "Reusing existing connection to docs.google.com:443.\n",
            "HTTP request sent, awaiting response... 200 OK\n",
            "Length: unspecified [text/css]\n",
            "Saving to: ‘train.zip’\n",
            "\n",
            "\rtrain.zip               [<=>                 ]       0  --.-KB/s               \rtrain.zip               [ <=>                ] 265.50K  --.-KB/s    in 0.005s  \n",
            "\n",
            "2018-11-16 06:55:30 (49.2 MB/s) - ‘train.zip’ saved [271869]\n",
            "\n",
            "--2018-11-16 06:55:30--  https://docs.google.com/settings?hl=en_US\n",
            "Reusing existing connection to docs.google.com:443.\n",
            "HTTP request sent, awaiting response... 200 OK\n",
            "Length: unspecified [text/html]\n",
            "Saving to: ‘train.zip’\n",
            "\n",
            "\rtrain.zip               [<=>                 ]       0  --.-KB/s               \rtrain.zip               [ <=>                ]   1.17K  --.-KB/s    in 0s      \n",
            "\n",
            "2018-11-16 06:55:30 (22.7 MB/s) - ‘train.zip’ saved [1201]\n",
            "\n",
            "--2018-11-16 06:55:30--  https://docs.google.com/open?id=17_3k75AIWlX6JW34zhGyKm4b7RD4e2jo\n",
            "Reusing existing connection to docs.google.com:443.\n",
            "HTTP request sent, awaiting response... 307 OK\n",
            "Location: https://drive.google.com/file/d/17_3k75AIWlX6JW34zhGyKm4b7RD4e2jo/view?usp=drive_open [following]\n",
            "--2018-11-16 06:55:30--  https://drive.google.com/file/d/17_3k75AIWlX6JW34zhGyKm4b7RD4e2jo/view?usp=drive_open\n",
            "Resolving drive.google.com (drive.google.com)... 173.194.76.102, 173.194.76.101, 173.194.76.138, ...\n",
            "Connecting to drive.google.com (drive.google.com)|173.194.76.102|:443... connected.\n",
            "HTTP request sent, awaiting response... 200 OK\n",
            "Length: unspecified [text/html]\n",
            "Saving to: ‘train.zip’\n",
            "\n",
            "train.zip               [ <=>                ] 132.89K  --.-KB/s    in 0.1s    \n",
            "\n",
            "2018-11-16 06:55:30 (1.06 MB/s) - ‘train.zip’ saved [136077]\n",
            "\n",
            "--2018-11-16 06:55:30--  https://docs.google.com/uc?export=download&confirm=jy2Z&id=17_3k75AIWlX6JW34zhGyKm4b7RD4e2jo\n",
            "Connecting to docs.google.com (docs.google.com)|64.233.167.102|:443... connected.\n",
            "HTTP request sent, awaiting response... 302 Moved Temporarily\n",
            "Location: https://doc-04-5o-docs.googleusercontent.com/docs/securesc/ha0ro937gcuc7l7deffksulhg5h7mbp1/roe5epmsp50p2t92pmhhdti535v7mgmv/1542348000000/04676798002695328517/*/17_3k75AIWlX6JW34zhGyKm4b7RD4e2jo?e=download [following]\n",
            "Warning: wildcards not supported in HTTP.\n",
            "--2018-11-16 06:55:31--  https://doc-04-5o-docs.googleusercontent.com/docs/securesc/ha0ro937gcuc7l7deffksulhg5h7mbp1/roe5epmsp50p2t92pmhhdti535v7mgmv/1542348000000/04676798002695328517/*/17_3k75AIWlX6JW34zhGyKm4b7RD4e2jo?e=download\n",
            "Resolving doc-04-5o-docs.googleusercontent.com (doc-04-5o-docs.googleusercontent.com)... 173.194.76.132, 2a00:1450:400c:c00::84\n",
            "Connecting to doc-04-5o-docs.googleusercontent.com (doc-04-5o-docs.googleusercontent.com)|173.194.76.132|:443... connected.\n",
            "HTTP request sent, awaiting response... 200 OK\n",
            "Length: unspecified [application/x-zip-compressed]\n",
            "Saving to: ‘train.zip’\n",
            "\n",
            "train.zip               [              <=>   ] 543.16M   128MB/s    in 4.4s    \n",
            "\n",
            "2018-11-16 06:55:35 (123 MB/s) - ‘train.zip’ saved [569546721]\n",
            "\n",
            "FINISHED --2018-11-16 06:55:35--\n",
            "Total wall clock time: 5.8s\n",
            "Downloaded: 6 files, 544M in 4.5s (120 MB/s)\n"
          ],
          "name": "stdout"
        }
      ]
    },
    {
      "metadata": {
        "id": "jdoiKviDmJ5W",
        "colab_type": "text"
      },
      "cell_type": "markdown",
      "source": [
        "Unsurprisingly, the cats vs. dogs Kaggle competition in 2013 was won by entrants who used convnets. The best entries could achieve up to \n",
        "95% accuracy. In our own example, we will get fairly close to this accuracy (in the next section), even though we will be training our \n",
        "models on less than 10% of the data that was available to the competitors.\n",
        "This original dataset contains 25,000 images of dogs and cats (12,500 from each class) and is 543MB large (compressed). After downloading \n",
        "and uncompressing it, we will create a new dataset containing three subsets: a training set with 1000 samples of each class, a validation \n",
        "set with 500 samples of each class, and finally a test set with 500 samples of each class.\n",
        "\n",
        "Here are a few lines of code to do this:"
      ]
    },
    {
      "metadata": {
        "id": "iWFS3ppnmJ5Z",
        "colab_type": "code",
        "colab": {}
      },
      "cell_type": "code",
      "source": [
        "import os, shutil\n",
        "\n",
        "# The path to the directory where the original\n",
        "# dataset was uncompressed\n",
        "original_dataset_dir = 'train'\n",
        "\n",
        "# The directory where we will\n",
        "# store our smaller dataset\n",
        "base_dir = 'data'\n",
        "os.mkdir(base_dir)\n",
        "\n",
        "# Directories for our training,\n",
        "# validation and test splits\n",
        "train_dir = os.path.join(base_dir, 'train')\n",
        "os.mkdir(train_dir)\n",
        "validation_dir = os.path.join(base_dir, 'validation')\n",
        "os.mkdir(validation_dir)\n",
        "test_dir = os.path.join(base_dir, 'test')\n",
        "os.mkdir(test_dir)\n",
        "\n",
        "# Directory with our training cat pictures\n",
        "train_cats_dir = os.path.join(train_dir, 'cats')\n",
        "os.mkdir(train_cats_dir)\n",
        "\n",
        "# Directory with our training dog pictures\n",
        "train_dogs_dir = os.path.join(train_dir, 'dogs')\n",
        "os.mkdir(train_dogs_dir)\n",
        "\n",
        "# Directory with our validation cat pictures\n",
        "validation_cats_dir = os.path.join(validation_dir, 'cats')\n",
        "os.mkdir(validation_cats_dir)\n",
        "\n",
        "# Directory with our validation dog pictures\n",
        "validation_dogs_dir = os.path.join(validation_dir, 'dogs')\n",
        "os.mkdir(validation_dogs_dir)\n",
        "\n",
        "# Directory with our validation cat pictures\n",
        "test_cats_dir = os.path.join(test_dir, 'cats')\n",
        "os.mkdir(test_cats_dir)\n",
        "\n",
        "# Directory with our validation dog pictures\n",
        "test_dogs_dir = os.path.join(test_dir, 'dogs')\n",
        "os.mkdir(test_dogs_dir)\n",
        "\n",
        "# Copy first 1000 cat images to train_cats_dir\n",
        "fnames = ['cat.{}.jpg'.format(i) for i in range(1000)]\n",
        "for fname in fnames:\n",
        "    src = os.path.join(original_dataset_dir, fname)\n",
        "    dst = os.path.join(train_cats_dir, fname)\n",
        "    shutil.copyfile(src, dst)\n",
        "\n",
        "# Copy next 500 cat images to validation_cats_dir\n",
        "fnames = ['cat.{}.jpg'.format(i) for i in range(1000, 1500)]\n",
        "for fname in fnames:\n",
        "    src = os.path.join(original_dataset_dir, fname)\n",
        "    dst = os.path.join(validation_cats_dir, fname)\n",
        "    shutil.copyfile(src, dst)\n",
        "    \n",
        "# Copy next 500 cat images to test_cats_dir\n",
        "fnames = ['cat.{}.jpg'.format(i) for i in range(1500, 2000)]\n",
        "for fname in fnames:\n",
        "    src = os.path.join(original_dataset_dir, fname)\n",
        "    dst = os.path.join(test_cats_dir, fname)\n",
        "    shutil.copyfile(src, dst)\n",
        "    \n",
        "# Copy first 1000 dog images to train_dogs_dir\n",
        "fnames = ['dog.{}.jpg'.format(i) for i in range(1000)]\n",
        "for fname in fnames:\n",
        "    src = os.path.join(original_dataset_dir, fname)\n",
        "    dst = os.path.join(train_dogs_dir, fname)\n",
        "    shutil.copyfile(src, dst)\n",
        "    \n",
        "# Copy next 500 dog images to validation_dogs_dir\n",
        "fnames = ['dog.{}.jpg'.format(i) for i in range(1000, 1500)]\n",
        "for fname in fnames:\n",
        "    src = os.path.join(original_dataset_dir, fname)\n",
        "    dst = os.path.join(validation_dogs_dir, fname)\n",
        "    shutil.copyfile(src, dst)\n",
        "    \n",
        "# Copy next 500 dog images to test_dogs_dir\n",
        "fnames = ['dog.{}.jpg'.format(i) for i in range(1500, 2000)]\n",
        "for fname in fnames:\n",
        "    src = os.path.join(original_dataset_dir, fname)\n",
        "    dst = os.path.join(test_dogs_dir, fname)\n",
        "    shutil.copyfile(src, dst)"
      ],
      "execution_count": 0,
      "outputs": []
    },
    {
      "metadata": {
        "id": "b12axOkomJ5a",
        "colab_type": "text"
      },
      "cell_type": "markdown",
      "source": [
        "As a sanity check, let's count how many pictures we have in each training split (train/validation/test):"
      ]
    },
    {
      "metadata": {
        "id": "OjjxGe4EmJ5b",
        "colab_type": "code",
        "outputId": "71b069b4-8726-4fee-f98e-03814a185324",
        "colab": {
          "base_uri": "https://localhost:8080/",
          "height": 34
        }
      },
      "cell_type": "code",
      "source": [
        "print('total training cat images:', len(os.listdir(train_cats_dir)))"
      ],
      "execution_count": 0,
      "outputs": [
        {
          "output_type": "stream",
          "text": [
            "total training cat images: 1000\n"
          ],
          "name": "stdout"
        }
      ]
    },
    {
      "metadata": {
        "id": "iYzjigydmJ5f",
        "colab_type": "code",
        "outputId": "3acbda6d-01c2-4239-d4cd-1466be761043",
        "colab": {
          "base_uri": "https://localhost:8080/",
          "height": 34
        }
      },
      "cell_type": "code",
      "source": [
        "print('total training dog images:', len(os.listdir(train_dogs_dir)))"
      ],
      "execution_count": 0,
      "outputs": [
        {
          "output_type": "stream",
          "text": [
            "total training dog images: 1000\n"
          ],
          "name": "stdout"
        }
      ]
    },
    {
      "metadata": {
        "id": "52mvwd4NmJ5h",
        "colab_type": "code",
        "outputId": "0053a964-ca0a-4765-9869-5af2250ae213",
        "colab": {
          "base_uri": "https://localhost:8080/",
          "height": 34
        }
      },
      "cell_type": "code",
      "source": [
        "print('total validation cat images:', len(os.listdir(validation_cats_dir)))"
      ],
      "execution_count": 0,
      "outputs": [
        {
          "output_type": "stream",
          "text": [
            "total validation cat images: 500\n"
          ],
          "name": "stdout"
        }
      ]
    },
    {
      "metadata": {
        "id": "-KXJzR0qmJ5k",
        "colab_type": "code",
        "outputId": "aaf791e6-ad5c-4b47-8eb9-6c46e385d71b",
        "colab": {
          "base_uri": "https://localhost:8080/",
          "height": 34
        }
      },
      "cell_type": "code",
      "source": [
        "print('total validation dog images:', len(os.listdir(validation_dogs_dir)))"
      ],
      "execution_count": 0,
      "outputs": [
        {
          "output_type": "stream",
          "text": [
            "total validation dog images: 500\n"
          ],
          "name": "stdout"
        }
      ]
    },
    {
      "metadata": {
        "id": "1EzAnQsMmJ5o",
        "colab_type": "code",
        "outputId": "93d27785-102a-4345-a3bd-db079232a1ac",
        "colab": {
          "base_uri": "https://localhost:8080/",
          "height": 34
        }
      },
      "cell_type": "code",
      "source": [
        "print('total test cat images:', len(os.listdir(test_cats_dir)))"
      ],
      "execution_count": 0,
      "outputs": [
        {
          "output_type": "stream",
          "text": [
            "total test cat images: 500\n"
          ],
          "name": "stdout"
        }
      ]
    },
    {
      "metadata": {
        "id": "EklauoenmJ5q",
        "colab_type": "code",
        "outputId": "17f719ac-be7a-4afa-9754-f5926c79e76b",
        "colab": {
          "base_uri": "https://localhost:8080/",
          "height": 34
        }
      },
      "cell_type": "code",
      "source": [
        "print('total test dog images:', len(os.listdir(test_dogs_dir)))"
      ],
      "execution_count": 0,
      "outputs": [
        {
          "output_type": "stream",
          "text": [
            "total test dog images: 500\n"
          ],
          "name": "stdout"
        }
      ]
    },
    {
      "metadata": {
        "id": "yfk5Z01QmJ5t",
        "colab_type": "text"
      },
      "cell_type": "markdown",
      "source": [
        "\n",
        "So we have indeed 2000 training images, and then 1000 validation images and 1000 test images. In each split, there is the same number of \n",
        "samples from each class: this is a balanced binary classification problem, which means that classification accuracy will be an appropriate \n",
        "measure of success."
      ]
    },
    {
      "metadata": {
        "id": "wTmoVxuXmJ5u",
        "colab_type": "text"
      },
      "cell_type": "markdown",
      "source": [
        "## Building our network\n",
        "\n",
        "We've already built a small convnet for MNIST in the previous example, so you should be familiar with them. We will reuse the same \n",
        "general structure: our convnet will be a stack of alternated `Conv2D` (with `relu` activation) and `MaxPooling2D` layers.\n",
        "\n",
        "However, since we are dealing with bigger images and a more complex problem, we will make our network accordingly larger: it will have one \n",
        "more `Conv2D` + `MaxPooling2D` stage. This serves both to augment the capacity of the network, and to further reduce the size of the \n",
        "feature maps, so that they aren't overly large when we reach the `Flatten` layer. Here, since we start from inputs of size 150x150 (a \n",
        "somewhat arbitrary choice), we end up with feature maps of size 7x7 right before the `Flatten` layer.\n",
        "\n",
        "Note that the depth of the feature maps is progressively increasing in the network (from 32 to 128), while the size of the feature maps is \n",
        "decreasing (from 148x148 to 7x7). This is a pattern that you will see in almost all convnets.\n",
        "\n",
        "Since we are attacking a binary classification problem, we are ending the network with a single unit (a `Dense` layer of size 1) and a \n",
        "`sigmoid` activation. This unit will encode the probability that the network is looking at one class or the other."
      ]
    },
    {
      "metadata": {
        "id": "TF4XpQbPmJ5v",
        "colab_type": "code",
        "colab": {}
      },
      "cell_type": "code",
      "source": [
        "from keras import layers\n",
        "from keras import models\n",
        "\n",
        "model = models.Sequential()\n",
        "model.add(layers.Conv2D(32, (3, 3), activation='relu',\n",
        "                        input_shape=(150, 150, 3)))\n",
        "model.add(layers.MaxPooling2D((2, 2)))\n",
        "model.add(layers.Conv2D(64, (3, 3), activation='relu'))\n",
        "model.add(layers.MaxPooling2D((2, 2)))\n",
        "model.add(layers.Conv2D(128, (3, 3), activation='relu'))\n",
        "model.add(layers.MaxPooling2D((2, 2)))\n",
        "model.add(layers.Conv2D(128, (3, 3), activation='relu'))\n",
        "model.add(layers.MaxPooling2D((2, 2)))\n",
        "model.add(layers.Flatten())\n",
        "model.add(layers.Dense(512, activation='relu'))\n",
        "model.add(layers.Dense(1, activation='sigmoid'))"
      ],
      "execution_count": 0,
      "outputs": []
    },
    {
      "metadata": {
        "id": "KmJBPXmWmJ5y",
        "colab_type": "text"
      },
      "cell_type": "markdown",
      "source": [
        "Let's take a look at how the dimensions of the feature maps change with every successive layer:"
      ]
    },
    {
      "metadata": {
        "id": "F_hG9kRjmJ5y",
        "colab_type": "code",
        "outputId": "2966c1c7-e821-4c63-f332-46d65b362753",
        "colab": {
          "base_uri": "https://localhost:8080/",
          "height": 504
        }
      },
      "cell_type": "code",
      "source": [
        "model.summary()"
      ],
      "execution_count": 0,
      "outputs": [
        {
          "output_type": "stream",
          "text": [
            "_________________________________________________________________\n",
            "Layer (type)                 Output Shape              Param #   \n",
            "=================================================================\n",
            "conv2d_98 (Conv2D)           (None, 148, 148, 32)      896       \n",
            "_________________________________________________________________\n",
            "max_pooling2d_7 (MaxPooling2 (None, 74, 74, 32)        0         \n",
            "_________________________________________________________________\n",
            "conv2d_99 (Conv2D)           (None, 72, 72, 64)        18496     \n",
            "_________________________________________________________________\n",
            "max_pooling2d_8 (MaxPooling2 (None, 36, 36, 64)        0         \n",
            "_________________________________________________________________\n",
            "conv2d_100 (Conv2D)          (None, 34, 34, 128)       73856     \n",
            "_________________________________________________________________\n",
            "max_pooling2d_9 (MaxPooling2 (None, 17, 17, 128)       0         \n",
            "_________________________________________________________________\n",
            "conv2d_101 (Conv2D)          (None, 15, 15, 128)       147584    \n",
            "_________________________________________________________________\n",
            "max_pooling2d_10 (MaxPooling (None, 7, 7, 128)         0         \n",
            "_________________________________________________________________\n",
            "flatten_2 (Flatten)          (None, 6272)              0         \n",
            "_________________________________________________________________\n",
            "dense_3 (Dense)              (None, 512)               3211776   \n",
            "_________________________________________________________________\n",
            "dense_4 (Dense)              (None, 1)                 513       \n",
            "=================================================================\n",
            "Total params: 3,453,121\n",
            "Trainable params: 3,453,121\n",
            "Non-trainable params: 0\n",
            "_________________________________________________________________\n"
          ],
          "name": "stdout"
        }
      ]
    },
    {
      "metadata": {
        "id": "CiqTCgiUmJ52",
        "colab_type": "text"
      },
      "cell_type": "markdown",
      "source": [
        "For our compilation step, we'll go with the `RMSprop` optimizer as usual. Since we ended our network with a single sigmoid unit, we will \n",
        "use binary crossentropy as our loss (as a reminder, check out the table in Chapter 4, section 5 for a cheatsheet on what loss function to \n",
        "use in various situations)."
      ]
    },
    {
      "metadata": {
        "id": "pcu4z4A2mJ52",
        "colab_type": "code",
        "colab": {}
      },
      "cell_type": "code",
      "source": [
        "from keras import optimizers\n",
        "\n",
        "model.compile(loss='binary_crossentropy',\n",
        "              optimizer=optimizers.RMSprop(lr=1e-4),\n",
        "              metrics=['acc'])"
      ],
      "execution_count": 0,
      "outputs": []
    },
    {
      "metadata": {
        "id": "aJCfALNMmJ54",
        "colab_type": "text"
      },
      "cell_type": "markdown",
      "source": [
        "## Data preprocessing\n",
        "\n",
        "As you already know by now, data should be formatted into appropriately pre-processed floating point tensors before being fed into our \n",
        "network. Currently, our data sits on a drive as JPEG files, so the steps for getting it into our network are roughly:\n",
        "\n",
        "* Read the picture files.\n",
        "* Decode the JPEG content to RBG grids of pixels.\n",
        "* Convert these into floating point tensors.\n",
        "* Rescale the pixel values (between 0 and 255) to the [0, 1] interval (as you know, neural networks prefer to deal with small input values).\n",
        "\n",
        "It may seem a bit daunting, but thankfully Keras has utilities to take care of these steps automatically. Keras has a module with image \n",
        "processing helper tools, located at `keras.preprocessing.image`. In particular, it contains the class `ImageDataGenerator` which allows to \n",
        "quickly set up Python generators that can automatically turn image files on disk into batches of pre-processed tensors. This is what we \n",
        "will use here."
      ]
    },
    {
      "metadata": {
        "id": "_T1dWihCmJ56",
        "colab_type": "code",
        "outputId": "8f3168ad-ba0d-457e-9ee4-8ff7976c4282",
        "colab": {
          "base_uri": "https://localhost:8080/",
          "height": 50
        }
      },
      "cell_type": "code",
      "source": [
        "from keras.preprocessing.image import ImageDataGenerator\n",
        "\n",
        "# All images will be rescaled by 1./255\n",
        "train_datagen = ImageDataGenerator(rescale=1./255)\n",
        "test_datagen = ImageDataGenerator(rescale=1./255)\n",
        "\n",
        "train_generator = train_datagen.flow_from_directory(\n",
        "        # This is the target directory\n",
        "        train_dir,\n",
        "        # All images will be resized to 150x150\n",
        "        target_size=(150, 150),\n",
        "        batch_size=20,\n",
        "        # Since we use binary_crossentropy loss, we need binary labels\n",
        "        class_mode='binary')\n",
        "\n",
        "validation_generator = test_datagen.flow_from_directory(\n",
        "        validation_dir,\n",
        "        target_size=(150, 150),\n",
        "        batch_size=20,\n",
        "        class_mode='binary')"
      ],
      "execution_count": 0,
      "outputs": [
        {
          "output_type": "stream",
          "text": [
            "Found 2000 images belonging to 2 classes.\n",
            "Found 1000 images belonging to 2 classes.\n"
          ],
          "name": "stdout"
        }
      ]
    },
    {
      "metadata": {
        "id": "pHx8hYw1mJ5-",
        "colab_type": "text"
      },
      "cell_type": "markdown",
      "source": [
        "Let's take a look at the output of one of these generators: it yields batches of 150x150 RGB images (shape `(20, 150, 150, 3)`) and binary \n",
        "labels (shape `(20,)`). 20 is the number of samples in each batch (the batch size). Note that the generator yields these batches \n",
        "indefinitely: it just loops endlessly over the images present in the target folder. For this reason, we need to `break` the iteration loop \n",
        "at some point."
      ]
    },
    {
      "metadata": {
        "id": "5ux8lq5EmJ5-",
        "colab_type": "code",
        "outputId": "97ea5df7-cabd-47b4-e370-44018b6c43a1",
        "colab": {
          "base_uri": "https://localhost:8080/",
          "height": 50
        }
      },
      "cell_type": "code",
      "source": [
        "for data_batch, labels_batch in train_generator:\n",
        "    print('data batch shape:', data_batch.shape)\n",
        "    print('labels batch shape:', labels_batch.shape)\n",
        "    break"
      ],
      "execution_count": 0,
      "outputs": [
        {
          "output_type": "stream",
          "text": [
            "data batch shape: (20, 150, 150, 3)\n",
            "labels batch shape: (20,)\n"
          ],
          "name": "stdout"
        }
      ]
    },
    {
      "metadata": {
        "id": "k9gS-cCOmJ6C",
        "colab_type": "text"
      },
      "cell_type": "markdown",
      "source": [
        "Let's fit our model to the data using the generator. We do it using the `fit_generator` method, the equivalent of `fit` for data generators \n",
        "like ours. It expects as first argument a Python generator that will yield batches of inputs and targets indefinitely, like ours does. \n",
        "Because the data is being generated endlessly, the generator needs to know example how many samples to draw from the generator before \n",
        "declaring an epoch over. This is the role of the `steps_per_epoch` argument: after having drawn `steps_per_epoch` batches from the \n",
        "generator, i.e. after having run for `steps_per_epoch` gradient descent steps, the fitting process will go to the next epoch. In our case, \n",
        "batches are 20-sample large, so it will take 100 batches until we see our target of 2000 samples.\n",
        "\n",
        "When using `fit_generator`, one may pass a `validation_data` argument, much like with the `fit` method. Importantly, this argument is \n",
        "allowed to be a data generator itself, but it could be a tuple of Numpy arrays as well. If you pass a generator as `validation_data`, then \n",
        "this generator is expected to yield batches of validation data endlessly, and thus you should also specify the `validation_steps` argument, \n",
        "which tells the process how many batches to draw from the validation generator for evaluation."
      ]
    },
    {
      "metadata": {
        "id": "Cxds9htemJ6C",
        "colab_type": "code",
        "outputId": "c91ef78a-b73e-42f9-a98b-cfaffa5ab012",
        "colab": {
          "base_uri": "https://localhost:8080/",
          "height": 1025
        }
      },
      "cell_type": "code",
      "source": [
        "history = model.fit_generator(\n",
        "      train_generator,\n",
        "      steps_per_epoch=100,\n",
        "      epochs=30,\n",
        "      validation_data=validation_generator,\n",
        "      validation_steps=50)"
      ],
      "execution_count": 0,
      "outputs": [
        {
          "output_type": "stream",
          "text": [
            "Epoch 1/30\n",
            "100/100 [==============================] - 14s 136ms/step - loss: 0.6928 - acc: 0.5345 - val_loss: 0.6865 - val_acc: 0.5020\n",
            "Epoch 2/30\n",
            "100/100 [==============================] - 11s 108ms/step - loss: 0.6633 - acc: 0.6075 - val_loss: 0.6737 - val_acc: 0.5500\n",
            "Epoch 3/30\n",
            "100/100 [==============================] - 11s 107ms/step - loss: 0.6325 - acc: 0.6455 - val_loss: 0.6277 - val_acc: 0.6420\n",
            "Epoch 4/30\n",
            "100/100 [==============================] - 11s 107ms/step - loss: 0.5920 - acc: 0.6935 - val_loss: 0.7359 - val_acc: 0.5690\n",
            "Epoch 5/30\n",
            "100/100 [==============================] - 11s 107ms/step - loss: 0.5554 - acc: 0.7220 - val_loss: 0.5869 - val_acc: 0.6730\n",
            "Epoch 6/30\n",
            "100/100 [==============================] - 11s 108ms/step - loss: 0.5157 - acc: 0.7475 - val_loss: 0.5759 - val_acc: 0.6880\n",
            "Epoch 7/30\n",
            "100/100 [==============================] - 11s 106ms/step - loss: 0.4835 - acc: 0.7680 - val_loss: 0.5516 - val_acc: 0.7100\n",
            "Epoch 8/30\n",
            "100/100 [==============================] - 11s 107ms/step - loss: 0.4421 - acc: 0.7955 - val_loss: 0.6678 - val_acc: 0.6540\n",
            "Epoch 9/30\n",
            "100/100 [==============================] - 11s 107ms/step - loss: 0.4236 - acc: 0.7970 - val_loss: 0.5756 - val_acc: 0.7180\n",
            "Epoch 10/30\n",
            "100/100 [==============================] - 11s 107ms/step - loss: 0.4015 - acc: 0.8175 - val_loss: 0.5384 - val_acc: 0.7330\n",
            "Epoch 11/30\n",
            "100/100 [==============================] - 11s 107ms/step - loss: 0.3795 - acc: 0.8185 - val_loss: 0.5757 - val_acc: 0.7320\n",
            "Epoch 12/30\n",
            "100/100 [==============================] - 11s 107ms/step - loss: 0.3435 - acc: 0.8520 - val_loss: 0.5698 - val_acc: 0.7240\n",
            "Epoch 13/30\n",
            "100/100 [==============================] - 11s 107ms/step - loss: 0.3227 - acc: 0.8565 - val_loss: 0.6769 - val_acc: 0.6700\n",
            "Epoch 14/30\n",
            "100/100 [==============================] - 11s 107ms/step - loss: 0.2899 - acc: 0.8795 - val_loss: 0.5981 - val_acc: 0.7210\n",
            "Epoch 15/30\n",
            "100/100 [==============================] - 11s 108ms/step - loss: 0.2667 - acc: 0.8915 - val_loss: 0.5951 - val_acc: 0.7300\n",
            "Epoch 16/30\n",
            "100/100 [==============================] - 11s 108ms/step - loss: 0.2426 - acc: 0.9015 - val_loss: 0.6226 - val_acc: 0.7260\n",
            "Epoch 17/30\n",
            "100/100 [==============================] - 11s 107ms/step - loss: 0.2139 - acc: 0.9215 - val_loss: 0.6427 - val_acc: 0.7380\n",
            "Epoch 18/30\n",
            "100/100 [==============================] - 11s 107ms/step - loss: 0.1997 - acc: 0.9265 - val_loss: 0.6773 - val_acc: 0.7180\n",
            "Epoch 19/30\n",
            "100/100 [==============================] - 11s 107ms/step - loss: 0.1734 - acc: 0.9435 - val_loss: 0.6664 - val_acc: 0.7330\n",
            "Epoch 20/30\n",
            "100/100 [==============================] - 11s 108ms/step - loss: 0.1512 - acc: 0.9430 - val_loss: 0.7269 - val_acc: 0.7090\n",
            "Epoch 21/30\n",
            "100/100 [==============================] - 11s 106ms/step - loss: 0.1323 - acc: 0.9525 - val_loss: 0.7732 - val_acc: 0.7210\n",
            "Epoch 22/30\n",
            "100/100 [==============================] - 11s 108ms/step - loss: 0.1219 - acc: 0.9525 - val_loss: 0.7488 - val_acc: 0.7220\n",
            "Epoch 23/30\n",
            "100/100 [==============================] - 11s 107ms/step - loss: 0.0999 - acc: 0.9660 - val_loss: 0.7990 - val_acc: 0.7350\n",
            "Epoch 24/30\n",
            "100/100 [==============================] - 11s 109ms/step - loss: 0.0843 - acc: 0.9755 - val_loss: 0.8205 - val_acc: 0.7300\n",
            "Epoch 25/30\n",
            "100/100 [==============================] - 11s 108ms/step - loss: 0.0703 - acc: 0.9790 - val_loss: 0.8874 - val_acc: 0.7300\n",
            "Epoch 26/30\n",
            "100/100 [==============================] - 11s 107ms/step - loss: 0.0641 - acc: 0.9830 - val_loss: 1.0350 - val_acc: 0.7110\n",
            "Epoch 27/30\n",
            "100/100 [==============================] - 11s 108ms/step - loss: 0.0534 - acc: 0.9855 - val_loss: 1.0164 - val_acc: 0.7090\n",
            "Epoch 28/30\n",
            "100/100 [==============================] - 11s 108ms/step - loss: 0.0446 - acc: 0.9870 - val_loss: 1.0227 - val_acc: 0.7260\n",
            "Epoch 29/30\n",
            "100/100 [==============================] - 11s 108ms/step - loss: 0.0435 - acc: 0.9870 - val_loss: 1.0025 - val_acc: 0.7280\n",
            "Epoch 30/30\n",
            "100/100 [==============================] - 11s 108ms/step - loss: 0.0321 - acc: 0.9920 - val_loss: 1.1024 - val_acc: 0.7230\n"
          ],
          "name": "stdout"
        }
      ]
    },
    {
      "metadata": {
        "id": "ofRjObEMmJ6G",
        "colab_type": "text"
      },
      "cell_type": "markdown",
      "source": [
        "It is good practice to always save your models after training:"
      ]
    },
    {
      "metadata": {
        "id": "9eFz2RiCmJ6H",
        "colab_type": "code",
        "colab": {}
      },
      "cell_type": "code",
      "source": [
        "model.save('cats_and_dogs_small_1.h5') #save model"
      ],
      "execution_count": 0,
      "outputs": []
    },
    {
      "metadata": {
        "id": "o9ZMBLGsmJ6J",
        "colab_type": "text"
      },
      "cell_type": "markdown",
      "source": [
        "Let's plot the loss and accuracy of the model over the training and validation data during training:"
      ]
    },
    {
      "metadata": {
        "id": "lShdtlzJmJ6L",
        "colab_type": "code",
        "outputId": "43ccf6a6-ae55-40e8-ffc0-c65fc4237742",
        "colab": {
          "base_uri": "https://localhost:8080/",
          "height": 706
        }
      },
      "cell_type": "code",
      "source": [
        "import matplotlib.pyplot as plt\n",
        "\n",
        "acc = history.history['acc']\n",
        "val_acc = history.history['val_acc']\n",
        "loss = history.history['loss']\n",
        "val_loss = history.history['val_loss']\n",
        "\n",
        "epochs = range(len(acc))\n",
        "\n",
        "plt.plot(epochs, acc, 'bo', label='Training acc')\n",
        "plt.plot(epochs, val_acc, 'b', label='Validation acc')\n",
        "plt.title('Training and validation accuracy')\n",
        "plt.legend()\n",
        "\n",
        "plt.figure()\n",
        "\n",
        "plt.plot(epochs, loss, 'bo', label='Training loss')\n",
        "plt.plot(epochs, val_loss, 'b', label='Validation loss')\n",
        "plt.title('Training and validation loss')\n",
        "plt.legend()\n",
        "\n",
        "plt.show()"
      ],
      "execution_count": 0,
      "outputs": [
        {
          "output_type": "display_data",
          "data": {
            "image/png": "[encoded data removed]",
            "text/plain": [
              "<matplotlib.figure.Figure at 0x7f8c1f326f98>"
            ]
          },
          "metadata": {
            "tags": []
          }
        },
        {
          "output_type": "display_data",
          "data": {
            "image/png": "[encoded data removed]",
            "text/plain": [
              "<matplotlib.figure.Figure at 0x7f8c1f368438>"
            ]
          },
          "metadata": {
            "tags": []
          }
        }
      ]
    },
    {
      "metadata": {
        "id": "Y9Td7CvSmJ6X",
        "colab_type": "text"
      },
      "cell_type": "markdown",
      "source": [
        "These plots are characteristic of overfitting. Our training accuracy increases linearly over time, until it reaches nearly 100%, while our \n",
        "validation accuracy stalls at 70-72%. Our validation loss reaches its minimum after only five epochs then stalls, while the training loss \n",
        "keeps decreasing linearly until it reaches nearly 0.\n",
        "\n",
        "Because we only have relatively few training samples (2000), overfitting is going to be our number one concern. You already know about a \n",
        "number of techniques that can help mitigate overfitting, such as dropout and weight decay (L2 regularization). We are now going to \n",
        "introduce a new one, specific to computer vision, and used almost universally when processing images with deep learning models: *data \n",
        "augmentation*."
      ]
    },
    {
      "metadata": {
        "id": "pGfPR55HmJ6X",
        "colab_type": "text"
      },
      "cell_type": "markdown",
      "source": [
        "## Using data augmentation\n",
        "\n",
        "Overfitting is caused by having too few samples to learn from, rendering us unable to train a model able to generalize to new data. \n",
        "Given infinite data, our model would be exposed to every possible aspect of the data distribution at hand: we would never overfit. Data \n",
        "augmentation takes the approach of generating more training data from existing training samples, by \"augmenting\" the samples via a number \n",
        "of random transformations that yield believable-looking images. The goal is that at training time, our model would never see the exact same \n",
        "picture twice. This helps the model get exposed to more aspects of the data and generalize better.\n",
        "\n",
        "In Keras, this can be done by configuring a number of random transformations to be performed on the images read by our `ImageDataGenerator` \n",
        "instance. Let's get started with an example:"
      ]
    },
    {
      "metadata": {
        "id": "NJ_q6HGYmJ6Y",
        "colab_type": "code",
        "colab": {}
      },
      "cell_type": "code",
      "source": [
        "datagen = ImageDataGenerator(\n",
        "      rotation_range=40,\n",
        "      width_shift_range=0.2,\n",
        "      height_shift_range=0.2,\n",
        "      shear_range=0.2,\n",
        "      zoom_range=0.2,\n",
        "      horizontal_flip=True,\n",
        "      fill_mode='nearest')"
      ],
      "execution_count": 0,
      "outputs": []
    },
    {
      "metadata": {
        "id": "sDIdFMDqmJ6Z",
        "colab_type": "text"
      },
      "cell_type": "markdown",
      "source": [
        "These are just a few of the options available (for more, see the Keras documentation). Let's quickly go over what we just wrote:\n",
        "\n",
        "* `rotation_range` is a value in degrees (0-180), a range within which to randomly rotate pictures.\n",
        "* `width_shift` and `height_shift` are ranges (as a fraction of total width or height) within which to randomly translate pictures \n",
        "vertically or horizontally.\n",
        "* `shear_range` is for randomly applying shearing transformations.\n",
        "* `zoom_range` is for randomly zooming inside pictures.\n",
        "* `horizontal_flip` is for randomly flipping half of the images horizontally -- relevant when there are no assumptions of horizontal \n",
        "asymmetry (e.g. real-world pictures).\n",
        "* `fill_mode` is the strategy used for filling in newly created pixels, which can appear after a rotation or a width/height shift.\n",
        "\n",
        "Let's take a look at our augmented images:"
      ]
    },
    {
      "metadata": {
        "id": "zqxh76ifmJ6b",
        "colab_type": "code",
        "outputId": "e578d620-1ee8-4114-ddf3-e372a60e907a",
        "colab": {
          "base_uri": "https://localhost:8080/",
          "height": 1348
        }
      },
      "cell_type": "code",
      "source": [
        "# This is module with image preprocessing utilities\n",
        "from keras.preprocessing import image\n",
        "\n",
        "fnames = [os.path.join(train_cats_dir, fname) for fname in os.listdir(train_cats_dir)]\n",
        "\n",
        "# We pick one image to \"augment\"\n",
        "img_path = fnames[3]\n",
        "\n",
        "# Read the image and resize it\n",
        "img = image.load_img(img_path, target_size=(150, 150))\n",
        "\n",
        "# Convert it to a Numpy array with shape (150, 150, 3)\n",
        "x = image.img_to_array(img)\n",
        "\n",
        "# Reshape it to (1, 150, 150, 3)\n",
        "x = x.reshape((1,) + x.shape)\n",
        "\n",
        "# The .flow() command below generates batches of randomly transformed images.\n",
        "# It will loop indefinitely, so we need to `break` the loop at some point!\n",
        "i = 0\n",
        "for batch in datagen.flow(x, batch_size=1):\n",
        "    plt.figure(i)\n",
        "    imgplot = plt.imshow(image.array_to_img(batch[0]))\n",
        "    i += 1\n",
        "    if i % 4 == 0:\n",
        "        break\n",
        "\n",
        "plt.show()"
      ],
      "execution_count": 0,
      "outputs": [
        {
          "output_type": "display_data",
          "data": {
            "image/png": "[encoded data removed]",
            "text/plain": [
              "<matplotlib.figure.Figure at 0x7f8c1f326c18>"
            ]
          },
          "metadata": {
            "tags": []
          }
        },
        {
          "output_type": "display_data",
          "data": {
            "image/png": "[encoded data removed]",
            "text/plain": [
              "<matplotlib.figure.Figure at 0x7f8c1f24c710>"
            ]
          },
          "metadata": {
            "tags": []
          }
        },
        {
          "output_type": "display_data",
          "data": {
            "image/png": "[encoded data removed]",
            "text/plain": [
              "<matplotlib.figure.Figure at 0x7f8c1f224940>"
            ]
          },
          "metadata": {
            "tags": []
          }
        },
        {
          "output_type": "display_data",
          "data": {
            "image/png": "[encoded data removed]",
            "text/plain": [
              "<matplotlib.figure.Figure at 0x7f8c1f1e73c8>"
            ]
          },
          "metadata": {
            "tags": []
          }
        }
      ]
    },
    {
      "metadata": {
        "id": "4O84ChzPmJ6c",
        "colab_type": "text"
      },
      "cell_type": "markdown",
      "source": [
        "If we train a new network using this data augmentation configuration, our network will never see twice the same input. However, the inputs \n",
        "that it sees are still heavily intercorrelated, since they come from a small number of original images -- we cannot produce new information, \n",
        "we can only remix existing information. As such, this might not be quite enough to completely get rid of overfitting. To further fight \n",
        "overfitting, we will also add a Dropout layer to our model, right before the densely-connected classifier:"
      ]
    },
    {
      "metadata": {
        "id": "lvR2MSbxmJ6d",
        "colab_type": "code",
        "colab": {}
      },
      "cell_type": "code",
      "source": [
        "model = models.Sequential()\n",
        "model.add(layers.Conv2D(32, (3, 3), activation='relu',\n",
        "                        input_shape=(150, 150, 3)))\n",
        "model.add(layers.MaxPooling2D((2, 2)))\n",
        "model.add(layers.Conv2D(64, (3, 3), activation='relu'))\n",
        "model.add(layers.MaxPooling2D((2, 2)))\n",
        "model.add(layers.Conv2D(128, (3, 3), activation='relu'))\n",
        "model.add(layers.MaxPooling2D((2, 2)))\n",
        "model.add(layers.Conv2D(128, (3, 3), activation='relu'))\n",
        "model.add(layers.MaxPooling2D((2, 2)))\n",
        "model.add(layers.Flatten())\n",
        "model.add(layers.Dropout(0.5))\n",
        "model.add(layers.Dense(512, activation='relu'))\n",
        "model.add(layers.Dense(1, activation='sigmoid'))\n",
        "\n",
        "model.compile(loss='binary_crossentropy',\n",
        "              optimizer=optimizers.RMSprop(lr=1e-4),\n",
        "              metrics=['acc'])"
      ],
      "execution_count": 0,
      "outputs": []
    },
    {
      "metadata": {
        "id": "-d_vV7oHmJ6h",
        "colab_type": "text"
      },
      "cell_type": "markdown",
      "source": [
        "Let's train our network using data augmentation and dropout:"
      ]
    },
    {
      "metadata": {
        "id": "TzWs0PthmJ6i",
        "colab_type": "code",
        "outputId": "3ecd6152-2f17-4f12-d4d1-ebd33b035626",
        "colab": {
          "base_uri": "https://localhost:8080/",
          "height": 218
        }
      },
      "cell_type": "code",
      "source": [
        "train_datagen = ImageDataGenerator(\n",
        "    rescale=1./255,\n",
        "    rotation_range=40,\n",
        "    width_shift_range=0.2,\n",
        "    height_shift_range=0.2,\n",
        "    shear_range=0.2,\n",
        "    zoom_range=0.2,\n",
        "    horizontal_flip=True,)\n",
        "\n",
        "# Note that the validation data should not be augmented!\n",
        "test_datagen = ImageDataGenerator(rescale=1./255)\n",
        "\n",
        "train_generator = train_datagen.flow_from_directory(\n",
        "        # This is the target directory\n",
        "        train_dir,\n",
        "        # All images will be resized to 150x150\n",
        "        target_size=(150, 150),\n",
        "        batch_size=32,\n",
        "        # Since we use binary_crossentropy loss, we need binary labels\n",
        "        class_mode='binary')\n",
        "\n",
        "validation_generator = test_datagen.flow_from_directory(\n",
        "        validation_dir,\n",
        "        target_size=(150, 150),\n",
        "        batch_size=32,\n",
        "        class_mode='binary')\n",
        "\n",
        "history = model.fit_generator(\n",
        "      train_generator,\n",
        "      steps_per_epoch=5,\n",
        "      epochs=5,\n",
        "      validation_data=validation_generator,\n",
        "      validation_steps=50)"
      ],
      "execution_count": 0,
      "outputs": [
        {
          "output_type": "stream",
          "text": [
            "Found 2000 images belonging to 2 classes.\n",
            "Found 1000 images belonging to 2 classes.\n",
            "Epoch 1/5\n",
            "5/5 [==============================] - 7s 1s/step - loss: 0.4598 - acc: 0.7625 - val_loss: 0.4611 - val_acc: 0.7728\n",
            "Epoch 2/5\n",
            "5/5 [==============================] - 6s 1s/step - loss: 0.5113 - acc: 0.7562 - val_loss: 0.4769 - val_acc: 0.7642\n",
            "Epoch 3/5\n",
            "5/5 [==============================] - 6s 1s/step - loss: 0.5126 - acc: 0.7250 - val_loss: 0.5151 - val_acc: 0.7386\n",
            "Epoch 4/5\n",
            "5/5 [==============================] - 6s 1s/step - loss: 0.4488 - acc: 0.7750 - val_loss: 0.4833 - val_acc: 0.7726\n",
            "Epoch 5/5\n",
            "5/5 [==============================] - 6s 1s/step - loss: 0.4382 - acc: 0.7938 - val_loss: 0.4511 - val_acc: 0.8014\n"
          ],
          "name": "stdout"
        }
      ]
    },
    {
      "metadata": {
        "id": "WCMI1Z3imJ6l",
        "colab_type": "text"
      },
      "cell_type": "markdown",
      "source": [
        "Let's save our model -- we will be using it in the section on convnet visualization."
      ]
    },
    {
      "metadata": {
        "id": "i3DFN9KumJ6m",
        "colab_type": "code",
        "colab": {}
      },
      "cell_type": "code",
      "source": [
        "model.save('cats_and_dogs_small_2.h5')"
      ],
      "execution_count": 0,
      "outputs": []
    },
    {
      "metadata": {
        "id": "TYcnaGesmJ6p",
        "colab_type": "text"
      },
      "cell_type": "markdown",
      "source": [
        "Let's plot our results again:"
      ]
    },
    {
      "metadata": {
        "id": "WTQxD58tmJ6p",
        "colab_type": "code",
        "colab": {}
      },
      "cell_type": "code",
      "source": [
        "acc = history.history['acc']\n",
        "val_acc = history.history['val_acc']\n",
        "loss = history.history['loss']\n",
        "val_loss = history.history['val_loss']\n",
        "\n",
        "epochs = range(len(acc))\n",
        "\n",
        "plt.plot(epochs, acc, 'bo', label='Training acc')\n",
        "plt.plot(epochs, val_acc, 'b', label='Validation acc')\n",
        "plt.title('Training and validation accuracy')\n",
        "plt.legend()\n",
        "\n",
        "plt.figure()\n",
        "\n",
        "plt.plot(epochs, loss, 'bo', label='Training loss')\n",
        "plt.plot(epochs, val_loss, 'b', label='Validation loss')\n",
        "plt.title('Training and validation loss')\n",
        "plt.legend()\n",
        "\n",
        "plt.show()"
      ],
      "execution_count": 0,
      "outputs": []
    },
    {
      "metadata": {
        "id": "7O3oz_ZgmJ6t",
        "colab_type": "text"
      },
      "cell_type": "markdown",
      "source": [
        "Thanks to data augmentation and dropout, we are no longer overfitting: the training curves are rather closely tracking the validation \n",
        "curves. We are now able to reach an accuracy of 82%, a 15% relative improvement over the non-regularized model.\n",
        "\n",
        "By leveraging regularization techniques even further and by tuning the network's parameters (such as the number of filters per convolution \n",
        "layer, or the number of layers in the network), we may be able to get an even better accuracy, likely up to 86-87%. However, it would prove \n",
        "very difficult to go any higher just by training our own convnet from scratch, simply because we have so little data to work with. As a \n",
        "next step to improve our accuracy on this problem, we will have to leverage a pre-trained model, which will be the focus of the next two \n",
        "sections."
      ]
    },
    {
      "metadata": {
        "id": "zOCSA5sYmULk",
        "colab_type": "text"
      },
      "cell_type": "markdown",
      "source": [
        "# 5.3 - Using a pre-trained convnet\n",
        "\n",
        "This notebook contains the code sample found in Chapter 5, Section 3 of [Deep Learning with Python](https://www.manning.com/books/deep-learning-with-python?a_aid=keras&a_bid=76564dff). Note that the original text features far more content, in particular further explanations and figures: in this notebook, you will only find source code and related comments.\n",
        "\n",
        "----\n",
        "\n",
        "A common and highly effective approach to deep learning on small image datasets is to leverage a pre-trained network. A pre-trained network \n",
        "is simply a saved network previously trained on a large dataset, typically on a large-scale image classification task. If this original \n",
        "dataset is large enough and general enough, then the spatial feature hierarchy learned by the pre-trained network can effectively act as a \n",
        "generic model of our visual world, and hence its features can prove useful for many different computer vision problems, even though these \n",
        "new problems might involve completely different classes from those of the original task. For instance, one might train a network on \n",
        "ImageNet (where classes are mostly animals and everyday objects) and then re-purpose this trained network for something as remote as \n",
        "identifying furniture items in images. Such portability of learned features across different problems is a key advantage of deep learning \n",
        "compared to many older shallow learning approaches, and it makes deep learning very effective for small-data problems.\n",
        "\n",
        "In our case, we will consider a large convnet trained on the ImageNet dataset (1.4 million labeled images and 1000 different classes). \n",
        "ImageNet contains many animal classes, including different species of cats and dogs, and we can thus expect to perform very well on our cat \n",
        "vs. dog classification problem.\n",
        "\n",
        "We will use the VGG16 architecture, developed by Karen Simonyan and Andrew Zisserman in 2014, a simple and widely used convnet architecture \n",
        "for ImageNet. Although it is a bit of an older model, far from the current state of the art and somewhat heavier than many other recent \n",
        "models, we chose it because its architecture is similar to what you are already familiar with, and easy to understand without introducing \n",
        "any new concepts. This may be your first encounter with one of these cutesie model names -- VGG, ResNet, Inception, Inception-ResNet, \n",
        "Xception... you will get used to them, as they will come up frequently if you keep doing deep learning for computer vision.\n",
        "\n",
        "There are two ways to leverage a pre-trained network: *feature extraction* and *fine-tuning*. We will cover both of them. Let's start with \n",
        "feature extraction."
      ]
    },
    {
      "metadata": {
        "id": "GIHvkuajmULl",
        "colab_type": "text"
      },
      "cell_type": "markdown",
      "source": [
        "## Feature extraction\n",
        "\n",
        "Feature extraction consists of using the representations learned by a previous network to extract interesting features from new samples. \n",
        "These features are then run through a new classifier, which is trained from scratch.\n",
        "\n",
        "As we saw previously, convnets used for image classification comprise two parts: they start with a series of pooling and convolution \n",
        "layers, and they end with a densely-connected classifier. The first part is called the \"convolutional base\" of the model. In the case of \n",
        "convnets, \"feature extraction\" will simply consist of taking the convolutional base of a previously-trained network, running the new data \n",
        "through it, and training a new classifier on top of the output.\n",
        "\n",
        "![swapping FC classifiers](https://s3.amazonaws.com/book.keras.io/img/ch5/swapping_fc_classifier.png)\n",
        "\n",
        "Why only reuse the convolutional base? Could we reuse the densely-connected classifier as well? In general, it should be avoided. The \n",
        "reason is simply that the representations learned by the convolutional base are likely to be more generic and therefore more reusable: the \n",
        "feature maps of a convnet are presence maps of generic concepts over a picture, which is likely to be useful regardless of the computer \n",
        "vision problem at hand. On the other end, the representations learned by the classifier will necessarily be very specific to the set of \n",
        "classes that the model was trained on -- they will only contain information about the presence probability of this or that class in the \n",
        "entire picture. Additionally, representations found in densely-connected layers no longer contain any information about _where_ objects are \n",
        "located in the input image: these layers get rid of the notion of space, whereas the object location is still described by convolutional \n",
        "feature maps. For problems where object location matters, densely-connected features would be largely useless.\n",
        "\n",
        "Note that the level of generality (and therefore reusability) of the representations extracted by specific convolution layers depends on \n",
        "the depth of the layer in the model. Layers that come earlier in the model extract local, highly generic feature maps (such as visual \n",
        "edges, colors, and textures), while layers higher-up extract more abstract concepts (such as \"cat ear\" or \"dog eye\"). So if your new \n",
        "dataset differs a lot from the dataset that the original model was trained on, you may be better off using only the first few layers of the \n",
        "model to do feature extraction, rather than using the entire convolutional base.\n",
        "\n",
        "In our case, since the ImageNet class set did contain multiple dog and cat classes, it is likely that it would be beneficial to reuse the \n",
        "information contained in the densely-connected layers of the original model. However, we will chose not to, in order to cover the more \n",
        "general case where the class set of the new problem does not overlap with the class set of the original model."
      ]
    },
    {
      "metadata": {
        "id": "bSOUBkNlmULm",
        "colab_type": "text"
      },
      "cell_type": "markdown",
      "source": [
        "Let's put this in practice by using the convolutional base of the VGG16 network, trained on ImageNet, to extract interesting features from \n",
        "our cat and dog images, and then training a cat vs. dog classifier on top of these features.\n",
        "\n",
        "The VGG16 model, among others, comes pre-packaged with Keras. You can import it from the `keras.applications` module. Here's the list of \n",
        "image classification models (all pre-trained on the ImageNet dataset) that are available as part of `keras.applications`:\n",
        "\n",
        "* Xception\n",
        "* InceptionV3\n",
        "* ResNet50\n",
        "* VGG16\n",
        "* VGG19\n",
        "* MobileNet\n",
        "\n",
        "Let's instantiate the VGG16 model:"
      ]
    },
    {
      "metadata": {
        "id": "PpD9N4PvmULn",
        "colab_type": "code",
        "colab": {}
      },
      "cell_type": "code",
      "source": [
        "from keras.applications import Xception\n",
        "\n",
        "conv_base = Xception(weights='imagenet',\n",
        "                  include_top=False,\n",
        "                  input_shape=(150, 150, 3))"
      ],
      "execution_count": 0,
      "outputs": []
    },
    {
      "metadata": {
        "id": "sZzkn6uumULp",
        "colab_type": "text"
      },
      "cell_type": "markdown",
      "source": [
        "We passed three arguments to the constructor:\n",
        "\n",
        "* `weights`, to specify which weight checkpoint to initialize the model from\n",
        "* `include_top`, which refers to including or not the densely-connected classifier on top of the network. By default, this \n",
        "densely-connected classifier would correspond to the 1000 classes from ImageNet. Since we intend to use our own densely-connected \n",
        "classifier (with only two classes, cat and dog), we don't need to include it.\n",
        "* `input_shape`, the shape of the image tensors that we will feed to the network. This argument is purely optional: if we don't pass it, \n",
        "then the network will be able to process inputs of any size.\n",
        "\n",
        "Here's the detail of the architecture of the VGG16 convolutional base: it's very similar to the simple convnets that you are already \n",
        "familiar with."
      ]
    },
    {
      "metadata": {
        "id": "3-5BqxxkmULq",
        "colab_type": "code",
        "outputId": "98a8cebc-0697-4b11-d4d6-e0f8e0de2bc2",
        "colab": {
          "base_uri": "https://localhost:8080/",
          "height": 4771
        }
      },
      "cell_type": "code",
      "source": [
        "conv_base.summary()"
      ],
      "execution_count": 0,
      "outputs": [
        {
          "output_type": "stream",
          "text": [
            "__________________________________________________________________________________________________\n",
            "Layer (type)                    Output Shape         Param #     Connected to                     \n",
            "==================================================================================================\n",
            "input_3 (InputLayer)            (None, 150, 150, 3)  0                                            \n",
            "__________________________________________________________________________________________________\n",
            "block1_conv1 (Conv2D)           (None, 74, 74, 32)   864         input_3[0][0]                    \n",
            "__________________________________________________________________________________________________\n",
            "block1_conv1_bn (BatchNormaliza (None, 74, 74, 32)   128         block1_conv1[0][0]               \n",
            "__________________________________________________________________________________________________\n",
            "block1_conv1_act (Activation)   (None, 74, 74, 32)   0           block1_conv1_bn[0][0]            \n",
            "__________________________________________________________________________________________________\n",
            "block1_conv2 (Conv2D)           (None, 72, 72, 64)   18432       block1_conv1_act[0][0]           \n",
            "__________________________________________________________________________________________________\n",
            "block1_conv2_bn (BatchNormaliza (None, 72, 72, 64)   256         block1_conv2[0][0]               \n",
            "__________________________________________________________________________________________________\n",
            "block1_conv2_act (Activation)   (None, 72, 72, 64)   0           block1_conv2_bn[0][0]            \n",
            "__________________________________________________________________________________________________\n",
            "block2_sepconv1 (SeparableConv2 (None, 72, 72, 128)  8768        block1_conv2_act[0][0]           \n",
            "__________________________________________________________________________________________________\n",
            "block2_sepconv1_bn (BatchNormal (None, 72, 72, 128)  512         block2_sepconv1[0][0]            \n",
            "__________________________________________________________________________________________________\n",
            "block2_sepconv2_act (Activation (None, 72, 72, 128)  0           block2_sepconv1_bn[0][0]         \n",
            "__________________________________________________________________________________________________\n",
            "block2_sepconv2 (SeparableConv2 (None, 72, 72, 128)  17536       block2_sepconv2_act[0][0]        \n",
            "__________________________________________________________________________________________________\n",
            "block2_sepconv2_bn (BatchNormal (None, 72, 72, 128)  512         block2_sepconv2[0][0]            \n",
            "__________________________________________________________________________________________________\n",
            "conv2d_110 (Conv2D)             (None, 36, 36, 128)  8192        block1_conv2_act[0][0]           \n",
            "__________________________________________________________________________________________________\n",
            "block2_pool (MaxPooling2D)      (None, 36, 36, 128)  0           block2_sepconv2_bn[0][0]         \n",
            "__________________________________________________________________________________________________\n",
            "batch_normalization_99 (BatchNo (None, 36, 36, 128)  512         conv2d_110[0][0]                 \n",
            "__________________________________________________________________________________________________\n",
            "add_13 (Add)                    (None, 36, 36, 128)  0           block2_pool[0][0]                \n",
            "                                                                 batch_normalization_99[0][0]     \n",
            "__________________________________________________________________________________________________\n",
            "block3_sepconv1_act (Activation (None, 36, 36, 128)  0           add_13[0][0]                     \n",
            "__________________________________________________________________________________________________\n",
            "block3_sepconv1 (SeparableConv2 (None, 36, 36, 256)  33920       block3_sepconv1_act[0][0]        \n",
            "__________________________________________________________________________________________________\n",
            "block3_sepconv1_bn (BatchNormal (None, 36, 36, 256)  1024        block3_sepconv1[0][0]            \n",
            "__________________________________________________________________________________________________\n",
            "block3_sepconv2_act (Activation (None, 36, 36, 256)  0           block3_sepconv1_bn[0][0]         \n",
            "__________________________________________________________________________________________________\n",
            "block3_sepconv2 (SeparableConv2 (None, 36, 36, 256)  67840       block3_sepconv2_act[0][0]        \n",
            "__________________________________________________________________________________________________\n",
            "block3_sepconv2_bn (BatchNormal (None, 36, 36, 256)  1024        block3_sepconv2[0][0]            \n",
            "__________________________________________________________________________________________________\n",
            "conv2d_111 (Conv2D)             (None, 18, 18, 256)  32768       add_13[0][0]                     \n",
            "__________________________________________________________________________________________________\n",
            "block3_pool (MaxPooling2D)      (None, 18, 18, 256)  0           block3_sepconv2_bn[0][0]         \n",
            "__________________________________________________________________________________________________\n",
            "batch_normalization_100 (BatchN (None, 18, 18, 256)  1024        conv2d_111[0][0]                 \n",
            "__________________________________________________________________________________________________\n",
            "add_14 (Add)                    (None, 18, 18, 256)  0           block3_pool[0][0]                \n",
            "                                                                 batch_normalization_100[0][0]    \n",
            "__________________________________________________________________________________________________\n",
            "block4_sepconv1_act (Activation (None, 18, 18, 256)  0           add_14[0][0]                     \n",
            "__________________________________________________________________________________________________\n",
            "block4_sepconv1 (SeparableConv2 (None, 18, 18, 728)  188672      block4_sepconv1_act[0][0]        \n",
            "__________________________________________________________________________________________________\n",
            "block4_sepconv1_bn (BatchNormal (None, 18, 18, 728)  2912        block4_sepconv1[0][0]            \n",
            "__________________________________________________________________________________________________\n",
            "block4_sepconv2_act (Activation (None, 18, 18, 728)  0           block4_sepconv1_bn[0][0]         \n",
            "__________________________________________________________________________________________________\n",
            "block4_sepconv2 (SeparableConv2 (None, 18, 18, 728)  536536      block4_sepconv2_act[0][0]        \n",
            "__________________________________________________________________________________________________\n",
            "block4_sepconv2_bn (BatchNormal (None, 18, 18, 728)  2912        block4_sepconv2[0][0]            \n",
            "__________________________________________________________________________________________________\n",
            "conv2d_112 (Conv2D)             (None, 9, 9, 728)    186368      add_14[0][0]                     \n",
            "__________________________________________________________________________________________________\n",
            "block4_pool (MaxPooling2D)      (None, 9, 9, 728)    0           block4_sepconv2_bn[0][0]         \n",
            "__________________________________________________________________________________________________\n",
            "batch_normalization_101 (BatchN (None, 9, 9, 728)    2912        conv2d_112[0][0]                 \n",
            "__________________________________________________________________________________________________\n",
            "add_15 (Add)                    (None, 9, 9, 728)    0           block4_pool[0][0]                \n",
            "                                                                 batch_normalization_101[0][0]    \n",
            "__________________________________________________________________________________________________\n",
            "block5_sepconv1_act (Activation (None, 9, 9, 728)    0           add_15[0][0]                     \n",
            "__________________________________________________________________________________________________\n",
            "block5_sepconv1 (SeparableConv2 (None, 9, 9, 728)    536536      block5_sepconv1_act[0][0]        \n",
            "__________________________________________________________________________________________________\n",
            "block5_sepconv1_bn (BatchNormal (None, 9, 9, 728)    2912        block5_sepconv1[0][0]            \n",
            "__________________________________________________________________________________________________\n",
            "block5_sepconv2_act (Activation (None, 9, 9, 728)    0           block5_sepconv1_bn[0][0]         \n",
            "__________________________________________________________________________________________________\n",
            "block5_sepconv2 (SeparableConv2 (None, 9, 9, 728)    536536      block5_sepconv2_act[0][0]        \n",
            "__________________________________________________________________________________________________\n",
            "block5_sepconv2_bn (BatchNormal (None, 9, 9, 728)    2912        block5_sepconv2[0][0]            \n",
            "__________________________________________________________________________________________________\n",
            "block5_sepconv3_act (Activation (None, 9, 9, 728)    0           block5_sepconv2_bn[0][0]         \n",
            "__________________________________________________________________________________________________\n",
            "block5_sepconv3 (SeparableConv2 (None, 9, 9, 728)    536536      block5_sepconv3_act[0][0]        \n",
            "__________________________________________________________________________________________________\n",
            "block5_sepconv3_bn (BatchNormal (None, 9, 9, 728)    2912        block5_sepconv3[0][0]            \n",
            "__________________________________________________________________________________________________\n",
            "add_16 (Add)                    (None, 9, 9, 728)    0           block5_sepconv3_bn[0][0]         \n",
            "                                                                 add_15[0][0]                     \n",
            "__________________________________________________________________________________________________\n",
            "block6_sepconv1_act (Activation (None, 9, 9, 728)    0           add_16[0][0]                     \n",
            "__________________________________________________________________________________________________\n",
            "block6_sepconv1 (SeparableConv2 (None, 9, 9, 728)    536536      block6_sepconv1_act[0][0]        \n",
            "__________________________________________________________________________________________________\n",
            "block6_sepconv1_bn (BatchNormal (None, 9, 9, 728)    2912        block6_sepconv1[0][0]            \n",
            "__________________________________________________________________________________________________\n",
            "block6_sepconv2_act (Activation (None, 9, 9, 728)    0           block6_sepconv1_bn[0][0]         \n",
            "__________________________________________________________________________________________________\n",
            "block6_sepconv2 (SeparableConv2 (None, 9, 9, 728)    536536      block6_sepconv2_act[0][0]        \n",
            "__________________________________________________________________________________________________\n",
            "block6_sepconv2_bn (BatchNormal (None, 9, 9, 728)    2912        block6_sepconv2[0][0]            \n",
            "__________________________________________________________________________________________________\n",
            "block6_sepconv3_act (Activation (None, 9, 9, 728)    0           block6_sepconv2_bn[0][0]         \n",
            "__________________________________________________________________________________________________\n",
            "block6_sepconv3 (SeparableConv2 (None, 9, 9, 728)    536536      block6_sepconv3_act[0][0]        \n",
            "__________________________________________________________________________________________________\n",
            "block6_sepconv3_bn (BatchNormal (None, 9, 9, 728)    2912        block6_sepconv3[0][0]            \n",
            "__________________________________________________________________________________________________\n",
            "add_17 (Add)                    (None, 9, 9, 728)    0           block6_sepconv3_bn[0][0]         \n",
            "                                                                 add_16[0][0]                     \n",
            "__________________________________________________________________________________________________\n",
            "block7_sepconv1_act (Activation (None, 9, 9, 728)    0           add_17[0][0]                     \n",
            "__________________________________________________________________________________________________\n",
            "block7_sepconv1 (SeparableConv2 (None, 9, 9, 728)    536536      block7_sepconv1_act[0][0]        \n",
            "__________________________________________________________________________________________________\n",
            "block7_sepconv1_bn (BatchNormal (None, 9, 9, 728)    2912        block7_sepconv1[0][0]            \n",
            "__________________________________________________________________________________________________\n",
            "block7_sepconv2_act (Activation (None, 9, 9, 728)    0           block7_sepconv1_bn[0][0]         \n",
            "__________________________________________________________________________________________________\n",
            "block7_sepconv2 (SeparableConv2 (None, 9, 9, 728)    536536      block7_sepconv2_act[0][0]        \n",
            "__________________________________________________________________________________________________\n",
            "block7_sepconv2_bn (BatchNormal (None, 9, 9, 728)    2912        block7_sepconv2[0][0]            \n",
            "__________________________________________________________________________________________________\n",
            "block7_sepconv3_act (Activation (None, 9, 9, 728)    0           block7_sepconv2_bn[0][0]         \n",
            "__________________________________________________________________________________________________\n",
            "block7_sepconv3 (SeparableConv2 (None, 9, 9, 728)    536536      block7_sepconv3_act[0][0]        \n",
            "__________________________________________________________________________________________________\n",
            "block7_sepconv3_bn (BatchNormal (None, 9, 9, 728)    2912        block7_sepconv3[0][0]            \n",
            "__________________________________________________________________________________________________\n",
            "add_18 (Add)                    (None, 9, 9, 728)    0           block7_sepconv3_bn[0][0]         \n",
            "                                                                 add_17[0][0]                     \n",
            "__________________________________________________________________________________________________\n",
            "block8_sepconv1_act (Activation (None, 9, 9, 728)    0           add_18[0][0]                     \n",
            "__________________________________________________________________________________________________\n",
            "block8_sepconv1 (SeparableConv2 (None, 9, 9, 728)    536536      block8_sepconv1_act[0][0]        \n",
            "__________________________________________________________________________________________________\n",
            "block8_sepconv1_bn (BatchNormal (None, 9, 9, 728)    2912        block8_sepconv1[0][0]            \n",
            "__________________________________________________________________________________________________\n",
            "block8_sepconv2_act (Activation (None, 9, 9, 728)    0           block8_sepconv1_bn[0][0]         \n",
            "__________________________________________________________________________________________________\n",
            "block8_sepconv2 (SeparableConv2 (None, 9, 9, 728)    536536      block8_sepconv2_act[0][0]        \n",
            "__________________________________________________________________________________________________\n",
            "block8_sepconv2_bn (BatchNormal (None, 9, 9, 728)    2912        block8_sepconv2[0][0]            \n",
            "__________________________________________________________________________________________________\n",
            "block8_sepconv3_act (Activation (None, 9, 9, 728)    0           block8_sepconv2_bn[0][0]         \n",
            "__________________________________________________________________________________________________\n",
            "block8_sepconv3 (SeparableConv2 (None, 9, 9, 728)    536536      block8_sepconv3_act[0][0]        \n",
            "__________________________________________________________________________________________________\n",
            "block8_sepconv3_bn (BatchNormal (None, 9, 9, 728)    2912        block8_sepconv3[0][0]            \n",
            "__________________________________________________________________________________________________\n",
            "add_19 (Add)                    (None, 9, 9, 728)    0           block8_sepconv3_bn[0][0]         \n",
            "                                                                 add_18[0][0]                     \n",
            "__________________________________________________________________________________________________\n",
            "block9_sepconv1_act (Activation (None, 9, 9, 728)    0           add_19[0][0]                     \n",
            "__________________________________________________________________________________________________\n",
            "block9_sepconv1 (SeparableConv2 (None, 9, 9, 728)    536536      block9_sepconv1_act[0][0]        \n",
            "__________________________________________________________________________________________________\n",
            "block9_sepconv1_bn (BatchNormal (None, 9, 9, 728)    2912        block9_sepconv1[0][0]            \n",
            "__________________________________________________________________________________________________\n",
            "block9_sepconv2_act (Activation (None, 9, 9, 728)    0           block9_sepconv1_bn[0][0]         \n",
            "__________________________________________________________________________________________________\n",
            "block9_sepconv2 (SeparableConv2 (None, 9, 9, 728)    536536      block9_sepconv2_act[0][0]        \n",
            "__________________________________________________________________________________________________\n",
            "block9_sepconv2_bn (BatchNormal (None, 9, 9, 728)    2912        block9_sepconv2[0][0]            \n",
            "__________________________________________________________________________________________________\n",
            "block9_sepconv3_act (Activation (None, 9, 9, 728)    0           block9_sepconv2_bn[0][0]         \n",
            "__________________________________________________________________________________________________\n",
            "block9_sepconv3 (SeparableConv2 (None, 9, 9, 728)    536536      block9_sepconv3_act[0][0]        \n",
            "__________________________________________________________________________________________________\n",
            "block9_sepconv3_bn (BatchNormal (None, 9, 9, 728)    2912        block9_sepconv3[0][0]            \n",
            "__________________________________________________________________________________________________\n",
            "add_20 (Add)                    (None, 9, 9, 728)    0           block9_sepconv3_bn[0][0]         \n",
            "                                                                 add_19[0][0]                     \n",
            "__________________________________________________________________________________________________\n",
            "block10_sepconv1_act (Activatio (None, 9, 9, 728)    0           add_20[0][0]                     \n",
            "__________________________________________________________________________________________________\n",
            "block10_sepconv1 (SeparableConv (None, 9, 9, 728)    536536      block10_sepconv1_act[0][0]       \n",
            "__________________________________________________________________________________________________\n",
            "block10_sepconv1_bn (BatchNorma (None, 9, 9, 728)    2912        block10_sepconv1[0][0]           \n",
            "__________________________________________________________________________________________________\n",
            "block10_sepconv2_act (Activatio (None, 9, 9, 728)    0           block10_sepconv1_bn[0][0]        \n",
            "__________________________________________________________________________________________________\n",
            "block10_sepconv2 (SeparableConv (None, 9, 9, 728)    536536      block10_sepconv2_act[0][0]       \n",
            "__________________________________________________________________________________________________\n",
            "block10_sepconv2_bn (BatchNorma (None, 9, 9, 728)    2912        block10_sepconv2[0][0]           \n",
            "__________________________________________________________________________________________________\n",
            "block10_sepconv3_act (Activatio (None, 9, 9, 728)    0           block10_sepconv2_bn[0][0]        \n",
            "__________________________________________________________________________________________________\n",
            "block10_sepconv3 (SeparableConv (None, 9, 9, 728)    536536      block10_sepconv3_act[0][0]       \n",
            "__________________________________________________________________________________________________\n",
            "block10_sepconv3_bn (BatchNorma (None, 9, 9, 728)    2912        block10_sepconv3[0][0]           \n",
            "__________________________________________________________________________________________________\n",
            "add_21 (Add)                    (None, 9, 9, 728)    0           block10_sepconv3_bn[0][0]        \n",
            "                                                                 add_20[0][0]                     \n",
            "__________________________________________________________________________________________________\n",
            "block11_sepconv1_act (Activatio (None, 9, 9, 728)    0           add_21[0][0]                     \n",
            "__________________________________________________________________________________________________\n",
            "block11_sepconv1 (SeparableConv (None, 9, 9, 728)    536536      block11_sepconv1_act[0][0]       \n",
            "__________________________________________________________________________________________________\n",
            "block11_sepconv1_bn (BatchNorma (None, 9, 9, 728)    2912        block11_sepconv1[0][0]           \n",
            "__________________________________________________________________________________________________\n",
            "block11_sepconv2_act (Activatio (None, 9, 9, 728)    0           block11_sepconv1_bn[0][0]        \n",
            "__________________________________________________________________________________________________\n",
            "block11_sepconv2 (SeparableConv (None, 9, 9, 728)    536536      block11_sepconv2_act[0][0]       \n",
            "__________________________________________________________________________________________________\n",
            "block11_sepconv2_bn (BatchNorma (None, 9, 9, 728)    2912        block11_sepconv2[0][0]           \n",
            "__________________________________________________________________________________________________\n",
            "block11_sepconv3_act (Activatio (None, 9, 9, 728)    0           block11_sepconv2_bn[0][0]        \n",
            "__________________________________________________________________________________________________\n",
            "block11_sepconv3 (SeparableConv (None, 9, 9, 728)    536536      block11_sepconv3_act[0][0]       \n",
            "__________________________________________________________________________________________________\n",
            "block11_sepconv3_bn (BatchNorma (None, 9, 9, 728)    2912        block11_sepconv3[0][0]           \n",
            "__________________________________________________________________________________________________\n",
            "add_22 (Add)                    (None, 9, 9, 728)    0           block11_sepconv3_bn[0][0]        \n",
            "                                                                 add_21[0][0]                     \n",
            "__________________________________________________________________________________________________\n",
            "block12_sepconv1_act (Activatio (None, 9, 9, 728)    0           add_22[0][0]                     \n",
            "__________________________________________________________________________________________________\n",
            "block12_sepconv1 (SeparableConv (None, 9, 9, 728)    536536      block12_sepconv1_act[0][0]       \n",
            "__________________________________________________________________________________________________\n",
            "block12_sepconv1_bn (BatchNorma (None, 9, 9, 728)    2912        block12_sepconv1[0][0]           \n",
            "__________________________________________________________________________________________________\n",
            "block12_sepconv2_act (Activatio (None, 9, 9, 728)    0           block12_sepconv1_bn[0][0]        \n",
            "__________________________________________________________________________________________________\n",
            "block12_sepconv2 (SeparableConv (None, 9, 9, 728)    536536      block12_sepconv2_act[0][0]       \n",
            "__________________________________________________________________________________________________\n",
            "block12_sepconv2_bn (BatchNorma (None, 9, 9, 728)    2912        block12_sepconv2[0][0]           \n",
            "__________________________________________________________________________________________________\n",
            "block12_sepconv3_act (Activatio (None, 9, 9, 728)    0           block12_sepconv2_bn[0][0]        \n",
            "__________________________________________________________________________________________________\n",
            "block12_sepconv3 (SeparableConv (None, 9, 9, 728)    536536      block12_sepconv3_act[0][0]       \n",
            "__________________________________________________________________________________________________\n",
            "block12_sepconv3_bn (BatchNorma (None, 9, 9, 728)    2912        block12_sepconv3[0][0]           \n",
            "__________________________________________________________________________________________________\n",
            "add_23 (Add)                    (None, 9, 9, 728)    0           block12_sepconv3_bn[0][0]        \n",
            "                                                                 add_22[0][0]                     \n",
            "__________________________________________________________________________________________________\n",
            "block13_sepconv1_act (Activatio (None, 9, 9, 728)    0           add_23[0][0]                     \n",
            "__________________________________________________________________________________________________\n",
            "block13_sepconv1 (SeparableConv (None, 9, 9, 728)    536536      block13_sepconv1_act[0][0]       \n",
            "__________________________________________________________________________________________________\n",
            "block13_sepconv1_bn (BatchNorma (None, 9, 9, 728)    2912        block13_sepconv1[0][0]           \n",
            "__________________________________________________________________________________________________\n",
            "block13_sepconv2_act (Activatio (None, 9, 9, 728)    0           block13_sepconv1_bn[0][0]        \n",
            "__________________________________________________________________________________________________\n",
            "block13_sepconv2 (SeparableConv (None, 9, 9, 1024)   752024      block13_sepconv2_act[0][0]       \n",
            "__________________________________________________________________________________________________\n",
            "block13_sepconv2_bn (BatchNorma (None, 9, 9, 1024)   4096        block13_sepconv2[0][0]           \n",
            "__________________________________________________________________________________________________\n",
            "conv2d_113 (Conv2D)             (None, 5, 5, 1024)   745472      add_23[0][0]                     \n",
            "__________________________________________________________________________________________________\n",
            "block13_pool (MaxPooling2D)     (None, 5, 5, 1024)   0           block13_sepconv2_bn[0][0]        \n",
            "__________________________________________________________________________________________________\n",
            "batch_normalization_102 (BatchN (None, 5, 5, 1024)   4096        conv2d_113[0][0]                 \n",
            "__________________________________________________________________________________________________\n",
            "add_24 (Add)                    (None, 5, 5, 1024)   0           block13_pool[0][0]               \n",
            "                                                                 batch_normalization_102[0][0]    \n",
            "__________________________________________________________________________________________________\n",
            "block14_sepconv1 (SeparableConv (None, 5, 5, 1536)   1582080     add_24[0][0]                     \n",
            "__________________________________________________________________________________________________\n",
            "block14_sepconv1_bn (BatchNorma (None, 5, 5, 1536)   6144        block14_sepconv1[0][0]           \n",
            "__________________________________________________________________________________________________\n",
            "block14_sepconv1_act (Activatio (None, 5, 5, 1536)   0           block14_sepconv1_bn[0][0]        \n",
            "__________________________________________________________________________________________________\n",
            "block14_sepconv2 (SeparableConv (None, 5, 5, 2048)   3159552     block14_sepconv1_act[0][0]       \n",
            "__________________________________________________________________________________________________\n",
            "block14_sepconv2_bn (BatchNorma (None, 5, 5, 2048)   8192        block14_sepconv2[0][0]           \n",
            "__________________________________________________________________________________________________\n",
            "block14_sepconv2_act (Activatio (None, 5, 5, 2048)   0           block14_sepconv2_bn[0][0]        \n",
            "==================================================================================================\n",
            "Total params: 20,861,480\n",
            "Trainable params: 20,806,952\n",
            "Non-trainable params: 54,528\n",
            "__________________________________________________________________________________________________\n"
          ],
          "name": "stdout"
        }
      ]
    },
    {
      "metadata": {
        "id": "q-qIZx1LmULu",
        "colab_type": "text"
      },
      "cell_type": "markdown",
      "source": [
        "The final feature map has shape `(4, 4, 512)`. That's the feature on top of which we will stick a densely-connected classifier.\n",
        "\n",
        "At this point, there are two ways we could proceed: \n",
        "\n",
        "* Running the convolutional base over our dataset, recording its output to a Numpy array on disk, then using this data as input to a \n",
        "standalone densely-connected classifier similar to those you have seen in the first chapters of this book. This solution is very fast and \n",
        "cheap to run, because it only requires running the convolutional base once for every input image, and the convolutional base is by far the \n",
        "most expensive part of the pipeline. However, for the exact same reason, this technique would not allow us to leverage data augmentation at \n",
        "all.\n",
        "* Extending the model we have (`conv_base`) by adding `Dense` layers on top, and running the whole thing end-to-end on the input data. This \n",
        "allows us to use data augmentation, because every input image is going through the convolutional base every time it is seen by the model. \n",
        "However, for this same reason, this technique is far more expensive than the first one.\n",
        "\n",
        "We will cover both techniques. Let's walk through the code required to set-up the first one: recording the output of `conv_base` on our \n",
        "data and using these outputs as inputs to a new model.\n",
        "\n",
        "We will start by simply running instances of the previously-introduced `ImageDataGenerator` to extract images as Numpy arrays as well as \n",
        "their labels. We will extract features from these images simply by calling the `predict` method of the `conv_base` model."
      ]
    },
    {
      "metadata": {
        "id": "ADVhSEZ-mULv",
        "colab_type": "code",
        "outputId": "428a97df-831e-4950-9395-34588876dbce",
        "colab": {
          "base_uri": "https://localhost:8080/",
          "height": 67
        }
      },
      "cell_type": "code",
      "source": [
        "import os\n",
        "import numpy as np\n",
        "from keras.preprocessing.image import ImageDataGenerator\n",
        "\n",
        "base_dir = 'data'\n",
        "\n",
        "train_dir = os.path.join(base_dir, 'train')\n",
        "validation_dir = os.path.join(base_dir, 'validation')\n",
        "test_dir = os.path.join(base_dir, 'test')\n",
        "\n",
        "datagen = ImageDataGenerator(rescale=1./255)\n",
        "batch_size = 20\n",
        "\n",
        "def extract_features(directory, sample_count):\n",
        "    features = np.zeros(shape=(sample_count, 5, 5, 2048))\n",
        "    labels = np.zeros(shape=(sample_count))\n",
        "    generator = datagen.flow_from_directory(\n",
        "        directory,\n",
        "        target_size=(150, 150),\n",
        "        batch_size=batch_size,\n",
        "        class_mode='binary')\n",
        "    i = 0\n",
        "    for inputs_batch, labels_batch in generator:\n",
        "        features_batch = conv_base.predict(inputs_batch)\n",
        "        features[i * batch_size : (i + 1) * batch_size] = features_batch\n",
        "        labels[i * batch_size : (i + 1) * batch_size] = labels_batch\n",
        "        i += 1\n",
        "        if i * batch_size >= sample_count:\n",
        "            # Note that since generators yield data indefinitely in a loop,\n",
        "            # we must `break` after every image has been seen once.\n",
        "            break\n",
        "    return features, labels\n",
        "\n",
        "train_features, train_labels = extract_features(train_dir, 2000)\n",
        "validation_features, validation_labels = extract_features(validation_dir, 1000)\n",
        "test_features, test_labels = extract_features(test_dir, 1000)"
      ],
      "execution_count": 0,
      "outputs": [
        {
          "output_type": "stream",
          "text": [
            "Found 2000 images belonging to 2 classes.\n",
            "Found 1000 images belonging to 2 classes.\n",
            "Found 1000 images belonging to 2 classes.\n"
          ],
          "name": "stdout"
        }
      ]
    },
    {
      "metadata": {
        "id": "F7KI4GqOmULy",
        "colab_type": "text"
      },
      "cell_type": "markdown",
      "source": [
        "The extracted features are currently of shape `(samples, 4, 4, 512)`. We will feed them to a densely-connected classifier, so first we must \n",
        "flatten them to `(samples, 8192)`:"
      ]
    },
    {
      "metadata": {
        "id": "NU_RAenPmULy",
        "colab_type": "code",
        "colab": {}
      },
      "cell_type": "code",
      "source": [
        "train_features = np.reshape(train_features, (2000, 5 * 5 * 2048))\n",
        "validation_features = np.reshape(validation_features, (1000, 5 * 5 * 2048))\n",
        "test_features = np.reshape(test_features, (1000, 5 * 5 * 2048))"
      ],
      "execution_count": 0,
      "outputs": []
    },
    {
      "metadata": {
        "id": "OoGRd-ibmUL0",
        "colab_type": "text"
      },
      "cell_type": "markdown",
      "source": [
        "At this point, we can define our densely-connected classifier (note the use of dropout for regularization), and train it on the data and \n",
        "labels that we just recorded:"
      ]
    },
    {
      "metadata": {
        "id": "lnFUBQP6mUL1",
        "colab_type": "code",
        "outputId": "b77e9cb9-ba69-43ae-e1f8-ef7bb7d82298",
        "colab": {
          "base_uri": "https://localhost:8080/",
          "height": 370
        }
      },
      "cell_type": "code",
      "source": [
        "from keras import models\n",
        "from keras import layers\n",
        "from keras import optimizers\n",
        "\n",
        "model = models.Sequential()\n",
        "model.add(layers.Dense(256, activation='relu', input_dim=5 * 5 * 2048))\n",
        "model.add(layers.Dropout(0.5))\n",
        "model.add(layers.Dense(1, activation='sigmoid'))\n",
        "\n",
        "model.compile(optimizer=optimizers.RMSprop(lr=2e-5),\n",
        "              loss='binary_crossentropy',\n",
        "              metrics=['acc'])\n",
        "\n",
        "history = model.fit(train_features, train_labels,\n",
        "                    epochs=10,\n",
        "                    batch_size=20,\n",
        "                    validation_data=(validation_features, validation_labels))"
      ],
      "execution_count": 0,
      "outputs": [
        {
          "output_type": "stream",
          "text": [
            "Train on 2000 samples, validate on 1000 samples\n",
            "Epoch 1/10\n",
            "2000/2000 [==============================] - 7s 3ms/step - loss: 0.1429 - acc: 0.9485 - val_loss: 0.1194 - val_acc: 0.9530\n",
            "Epoch 2/10\n",
            "2000/2000 [==============================] - 3s 1ms/step - loss: 0.0556 - acc: 0.9800 - val_loss: 0.0985 - val_acc: 0.9610\n",
            "Epoch 3/10\n",
            "2000/2000 [==============================] - 3s 1ms/step - loss: 0.0499 - acc: 0.9825 - val_loss: 0.1022 - val_acc: 0.9650\n",
            "Epoch 4/10\n",
            "2000/2000 [==============================] - 3s 1ms/step - loss: 0.0256 - acc: 0.9900 - val_loss: 0.1012 - val_acc: 0.9680\n",
            "Epoch 5/10\n",
            "2000/2000 [==============================] - 3s 1ms/step - loss: 0.0254 - acc: 0.9900 - val_loss: 0.1297 - val_acc: 0.9600\n",
            "Epoch 6/10\n",
            "2000/2000 [==============================] - 3s 1ms/step - loss: 0.0140 - acc: 0.9955 - val_loss: 0.1130 - val_acc: 0.9670\n",
            "Epoch 7/10\n",
            "2000/2000 [==============================] - 3s 1ms/step - loss: 0.0127 - acc: 0.9970 - val_loss: 0.1242 - val_acc: 0.9660\n",
            "Epoch 8/10\n",
            "2000/2000 [==============================] - 3s 1ms/step - loss: 0.0107 - acc: 0.9960 - val_loss: 0.1773 - val_acc: 0.9590\n",
            "Epoch 9/10\n",
            "2000/2000 [==============================] - 3s 1ms/step - loss: 0.0066 - acc: 0.9980 - val_loss: 0.1828 - val_acc: 0.9590\n",
            "Epoch 10/10\n",
            "2000/2000 [==============================] - 3s 1ms/step - loss: 0.0055 - acc: 0.9980 - val_loss: 0.1369 - val_acc: 0.9640\n"
          ],
          "name": "stdout"
        }
      ]
    },
    {
      "metadata": {
        "id": "RUOHKNEWmUL4",
        "colab_type": "text"
      },
      "cell_type": "markdown",
      "source": [
        "Training is very fast, since we only have to deal with two `Dense` layers -- an epoch takes less than one second even on CPU.\n",
        "\n",
        "Let's take a look at the loss and accuracy curves during training:"
      ]
    },
    {
      "metadata": {
        "id": "vggI9OOhmUL5",
        "colab_type": "code",
        "outputId": "c96d93ec-83fd-430c-ee99-3abf8f03ed98",
        "colab": {
          "base_uri": "https://localhost:8080/",
          "height": 706
        }
      },
      "cell_type": "code",
      "source": [
        "import matplotlib.pyplot as plt\n",
        "\n",
        "acc = history.history['acc']\n",
        "val_acc = history.history['val_acc']\n",
        "loss = history.history['loss']\n",
        "val_loss = history.history['val_loss']\n",
        "\n",
        "epochs = range(len(acc))\n",
        "\n",
        "plt.plot(epochs, acc, 'bo', label='Training acc')\n",
        "plt.plot(epochs, val_acc, 'b', label='Validation acc')\n",
        "plt.title('Training and validation accuracy')\n",
        "plt.legend()\n",
        "\n",
        "plt.figure()\n",
        "\n",
        "plt.plot(epochs, loss, 'bo', label='Training loss')\n",
        "plt.plot(epochs, val_loss, 'b', label='Validation loss')\n",
        "plt.title('Training and validation loss')\n",
        "plt.legend()\n",
        "\n",
        "plt.show()"
      ],
      "execution_count": 0,
      "outputs": [
        {
          "output_type": "display_data",
          "data": {
            "image/png": "[encoded data removed]",
            "text/plain": [
              "<matplotlib.figure.Figure at 0x7f8c160ad6a0>"
            ]
          },
          "metadata": {
            "tags": []
          }
        },
        {
          "output_type": "display_data",
          "data": {
            "image/png": "[encoded data removed]",
            "text/plain": [
              "<matplotlib.figure.Figure at 0x7f8c1605c320>"
            ]
          },
          "metadata": {
            "tags": []
          }
        }
      ]
    },
    {
      "metadata": {
        "id": "zZ-YjPNUmUL9",
        "colab_type": "text"
      },
      "cell_type": "markdown",
      "source": [
        "\n",
        "We reach a validation accuracy of about 90%, much better than what we could achieve in the previous section with our small model trained from \n",
        "scratch. However, our plots also indicate that we are overfitting almost from the start -- despite using dropout with a fairly large rate. \n",
        "This is because this technique does not leverage data augmentation, which is essential to preventing overfitting with small image datasets.\n",
        "\n",
        "Now, let's review the second technique we mentioned for doing feature extraction, which is much slower and more expensive, but which allows \n",
        "us to leverage data augmentation during training: extending the `conv_base` model and running it end-to-end on the inputs. Note that this \n",
        "technique is in fact so expensive that you should only attempt it if you have access to a GPU: it is absolutely intractable on CPU. If you \n",
        "cannot run your code on GPU, then the previous technique is the way to go.\n",
        "\n",
        "Because models behave just like layers, you can add a model (like our `conv_base`) to a `Sequential` model just like you would add a layer. \n",
        "So you can do the following:"
      ]
    },
    {
      "metadata": {
        "id": "UK2eNY0VmUL9",
        "colab_type": "code",
        "colab": {}
      },
      "cell_type": "code",
      "source": [
        "from keras import models\n",
        "from keras import layers\n",
        "\n",
        "model = models.Sequential()\n",
        "model.add(conv_base)\n",
        "model.add(layers.Flatten())\n",
        "model.add(layers.Dense(256, activation='relu'))\n",
        "model.add(layers.Dense(1, activation='sigmoid'))"
      ],
      "execution_count": 0,
      "outputs": []
    },
    {
      "metadata": {
        "id": "xrzhcPE9mUL_",
        "colab_type": "text"
      },
      "cell_type": "markdown",
      "source": [
        "This is what our model looks like now:"
      ]
    },
    {
      "metadata": {
        "id": "GJ82FQLOmUMA",
        "colab_type": "code",
        "outputId": "d867e205-986f-48c9-8794-d2b44fd29a15",
        "colab": {
          "base_uri": "https://localhost:8080/",
          "height": 269
        }
      },
      "cell_type": "code",
      "source": [
        "model.summary()"
      ],
      "execution_count": 0,
      "outputs": [
        {
          "output_type": "stream",
          "text": [
            "_________________________________________________________________\n",
            "Layer (type)                 Output Shape              Param #   \n",
            "=================================================================\n",
            "xception (Model)             (None, 5, 5, 2048)        20861480  \n",
            "_________________________________________________________________\n",
            "flatten_4 (Flatten)          (None, 51200)             0         \n",
            "_________________________________________________________________\n",
            "dense_9 (Dense)              (None, 256)               13107456  \n",
            "_________________________________________________________________\n",
            "dense_10 (Dense)             (None, 1)                 257       \n",
            "=================================================================\n",
            "Total params: 33,969,193\n",
            "Trainable params: 33,914,665\n",
            "Non-trainable params: 54,528\n",
            "_________________________________________________________________\n"
          ],
          "name": "stdout"
        }
      ]
    },
    {
      "metadata": {
        "id": "swzY9pMVmUMC",
        "colab_type": "text"
      },
      "cell_type": "markdown",
      "source": [
        "As you can see, the convolutional base of VGG16 has 14,714,688 parameters, which is very large. The classifier we are adding on top has 2 \n",
        "million parameters.\n",
        "\n",
        "Before we compile and train our model, a very important thing to do is to freeze the convolutional base. \"Freezing\" a layer or set of \n",
        "layers means preventing their weights from getting updated during training. If we don't do this, then the representations that were \n",
        "previously learned by the convolutional base would get modified during training. Since the `Dense` layers on top are randomly initialized, \n",
        "very large weight updates would be propagated through the network, effectively destroying the representations previously learned.\n",
        "\n",
        "In Keras, freezing a network is done by setting its `trainable` attribute to `False`:"
      ]
    },
    {
      "metadata": {
        "id": "h9Ww6ZS2mUMD",
        "colab_type": "code",
        "outputId": "bc6471f1-df24-4fea-e9df-8b2f9f862cc5",
        "colab": {
          "base_uri": "https://localhost:8080/",
          "height": 34
        }
      },
      "cell_type": "code",
      "source": [
        "print('This is the number of trainable weights '\n",
        "      'before freezing the conv base:', len(model.trainable_weights))"
      ],
      "execution_count": 0,
      "outputs": [
        {
          "output_type": "stream",
          "text": [
            "This is the number of trainable weights before freezing the conv base: 158\n"
          ],
          "name": "stdout"
        }
      ]
    },
    {
      "metadata": {
        "id": "SPIqZpITmUMG",
        "colab_type": "code",
        "colab": {}
      },
      "cell_type": "code",
      "source": [
        "conv_base.trainable = False"
      ],
      "execution_count": 0,
      "outputs": []
    },
    {
      "metadata": {
        "id": "k9PgrdMEmUMJ",
        "colab_type": "code",
        "outputId": "e1400a2a-7168-448b-9c11-9ec83b799dcb",
        "colab": {
          "base_uri": "https://localhost:8080/",
          "height": 34
        }
      },
      "cell_type": "code",
      "source": [
        "print('This is the number of trainable weights '\n",
        "      'after freezing the conv base:', len(model.trainable_weights))"
      ],
      "execution_count": 0,
      "outputs": [
        {
          "output_type": "stream",
          "text": [
            "This is the number of trainable weights after freezing the conv base: 4\n"
          ],
          "name": "stdout"
        }
      ]
    },
    {
      "metadata": {
        "id": "53blTy-imUMN",
        "colab_type": "text"
      },
      "cell_type": "markdown",
      "source": [
        "With this setup, only the weights from the two `Dense` layers that we added will be trained. That's a total of four weight tensors: two per \n",
        "layer (the main weight matrix and the bias vector). Note that in order for these changes to take effect, we must first compile the model. \n",
        "If you ever modify weight trainability after compilation, you should then re-compile the model, or these changes would be ignored.\n",
        "\n",
        "Now we can start training our model, with the same data augmentation configuration that we used in our previous example:"
      ]
    },
    {
      "metadata": {
        "id": "I3EVZumomUMO",
        "colab_type": "code",
        "outputId": "1558d9e0-37b1-4b90-c19c-bfef742415a0",
        "colab": {
          "base_uri": "https://localhost:8080/",
          "height": 1058
        }
      },
      "cell_type": "code",
      "source": [
        "from keras.preprocessing.image import ImageDataGenerator\n",
        "\n",
        "train_datagen = ImageDataGenerator(\n",
        "      rescale=1./255,\n",
        "      rotation_range=40,\n",
        "      width_shift_range=0.2,\n",
        "      height_shift_range=0.2,\n",
        "      shear_range=0.2,\n",
        "      zoom_range=0.2,\n",
        "      horizontal_flip=True,\n",
        "      fill_mode='nearest')\n",
        "\n",
        "# Note that the validation data should not be augmented!\n",
        "test_datagen = ImageDataGenerator(rescale=1./255)\n",
        "\n",
        "train_generator = train_datagen.flow_from_directory(\n",
        "        # This is the target directory\n",
        "        train_dir,\n",
        "        # All images will be resized to 150x150\n",
        "        target_size=(150, 150),\n",
        "        batch_size=20,\n",
        "        # Since we use binary_crossentropy loss, we need binary labels\n",
        "        class_mode='binary')\n",
        "\n",
        "validation_generator = test_datagen.flow_from_directory(\n",
        "        validation_dir,\n",
        "        target_size=(150, 150),\n",
        "        batch_size=20,\n",
        "        class_mode='binary')\n",
        "\n",
        "model.compile(loss='binary_crossentropy',\n",
        "              optimizer=optimizers.RMSprop(lr=2e-5),\n",
        "              metrics=['acc'])\n",
        "\n",
        "history = model.fit_generator(\n",
        "      train_generator,\n",
        "      steps_per_epoch=30,\n",
        "      epochs=30,\n",
        "      validation_data=validation_generator,\n",
        "      validation_steps=50,\n",
        "      verbose=2)"
      ],
      "execution_count": 0,
      "outputs": [
        {
          "output_type": "stream",
          "text": [
            "Found 2000 images belonging to 2 classes.\n",
            "Found 1000 images belonging to 2 classes.\n",
            "Epoch 1/30\n",
            " - 16s - loss: 0.6130 - acc: 0.6767 - val_loss: 0.1551 - val_acc: 0.9400\n",
            "Epoch 2/30\n",
            " - 10s - loss: 0.4207 - acc: 0.8067 - val_loss: 0.1476 - val_acc: 0.9500\n",
            "Epoch 3/30\n",
            " - 10s - loss: 0.4052 - acc: 0.8000 - val_loss: 0.0997 - val_acc: 0.9550\n",
            "Epoch 4/30\n",
            " - 10s - loss: 0.3788 - acc: 0.8467 - val_loss: 0.1327 - val_acc: 0.9480\n",
            "Epoch 5/30\n",
            " - 10s - loss: 0.3904 - acc: 0.7950 - val_loss: 0.1213 - val_acc: 0.9550\n",
            "Epoch 6/30\n",
            " - 10s - loss: 0.3570 - acc: 0.8400 - val_loss: 0.1535 - val_acc: 0.9510\n",
            "Epoch 7/30\n",
            " - 10s - loss: 0.3742 - acc: 0.8217 - val_loss: 0.1050 - val_acc: 0.9600\n",
            "Epoch 8/30\n",
            " - 10s - loss: 0.3899 - acc: 0.8150 - val_loss: 0.1428 - val_acc: 0.9560\n",
            "Epoch 9/30\n",
            " - 10s - loss: 0.3173 - acc: 0.8567 - val_loss: 0.1026 - val_acc: 0.9630\n",
            "Epoch 10/30\n",
            " - 10s - loss: 0.4066 - acc: 0.8233 - val_loss: 0.1323 - val_acc: 0.9550\n",
            "Epoch 11/30\n",
            " - 10s - loss: 0.3727 - acc: 0.8300 - val_loss: 0.1160 - val_acc: 0.9580\n",
            "Epoch 12/30\n",
            " - 10s - loss: 0.3549 - acc: 0.8417 - val_loss: 0.0968 - val_acc: 0.9640\n",
            "Epoch 13/30\n",
            " - 10s - loss: 0.3678 - acc: 0.8283 - val_loss: 0.1636 - val_acc: 0.9440\n",
            "Epoch 14/30\n",
            " - 10s - loss: 0.3567 - acc: 0.8483 - val_loss: 0.1080 - val_acc: 0.9600\n",
            "Epoch 15/30\n",
            " - 10s - loss: 0.3577 - acc: 0.8600 - val_loss: 0.1194 - val_acc: 0.9610\n",
            "Epoch 16/30\n",
            " - 10s - loss: 0.3060 - acc: 0.8750 - val_loss: 0.1157 - val_acc: 0.9610\n",
            "Epoch 17/30\n",
            " - 10s - loss: 0.3859 - acc: 0.8250 - val_loss: 0.1416 - val_acc: 0.9520\n",
            "Epoch 18/30\n",
            " - 10s - loss: 0.3294 - acc: 0.8533 - val_loss: 0.1118 - val_acc: 0.9600\n",
            "Epoch 19/30\n",
            " - 10s - loss: 0.2914 - acc: 0.8717 - val_loss: 0.1263 - val_acc: 0.9610\n",
            "Epoch 20/30\n",
            " - 10s - loss: 0.3042 - acc: 0.8667 - val_loss: 0.1573 - val_acc: 0.9620\n",
            "Epoch 21/30\n",
            " - 10s - loss: 0.3233 - acc: 0.8467 - val_loss: 0.1748 - val_acc: 0.9550\n",
            "Epoch 22/30\n",
            " - 10s - loss: 0.3101 - acc: 0.8633 - val_loss: 0.1311 - val_acc: 0.9650\n",
            "Epoch 23/30\n",
            " - 10s - loss: 0.3280 - acc: 0.8783 - val_loss: 0.1251 - val_acc: 0.9670\n",
            "Epoch 24/30\n",
            " - 10s - loss: 0.3139 - acc: 0.8517 - val_loss: 0.1610 - val_acc: 0.9610\n",
            "Epoch 25/30\n",
            " - 10s - loss: 0.3030 - acc: 0.8367 - val_loss: 0.1453 - val_acc: 0.9590\n",
            "Epoch 26/30\n",
            " - 10s - loss: 0.3430 - acc: 0.8400 - val_loss: 0.1608 - val_acc: 0.9550\n",
            "Epoch 27/30\n",
            " - 10s - loss: 0.3086 - acc: 0.8633 - val_loss: 0.1369 - val_acc: 0.9630\n",
            "Epoch 28/30\n",
            " - 10s - loss: 0.3137 - acc: 0.8500 - val_loss: 0.1453 - val_acc: 0.9570\n",
            "Epoch 29/30\n",
            " - 10s - loss: 0.3182 - acc: 0.8733 - val_loss: 0.1457 - val_acc: 0.9630\n",
            "Epoch 30/30\n",
            " - 10s - loss: 0.3172 - acc: 0.8417 - val_loss: 0.1706 - val_acc: 0.9580\n"
          ],
          "name": "stdout"
        }
      ]
    },
    {
      "metadata": {
        "id": "nFpCgwYgmUMR",
        "colab_type": "code",
        "colab": {}
      },
      "cell_type": "code",
      "source": [
        "model.save('cats_and_dogs_small_3.h5')"
      ],
      "execution_count": 0,
      "outputs": []
    },
    {
      "metadata": {
        "id": "OWd7L1lmmUMU",
        "colab_type": "text"
      },
      "cell_type": "markdown",
      "source": [
        "Let's plot our results again:"
      ]
    },
    {
      "metadata": {
        "id": "bQ1_rNWGmUMV",
        "colab_type": "code",
        "outputId": "09398e9e-6464-43af-d8ab-debc42dc95d2",
        "colab": {
          "base_uri": "https://localhost:8080/",
          "height": 706
        }
      },
      "cell_type": "code",
      "source": [
        "acc = history.history['acc']\n",
        "val_acc = history.history['val_acc']\n",
        "loss = history.history['loss']\n",
        "val_loss = history.history['val_loss']\n",
        "\n",
        "epochs = range(len(acc))\n",
        "\n",
        "plt.plot(epochs, acc, 'bo', label='Training acc')\n",
        "plt.plot(epochs, val_acc, 'b', label='Validation acc')\n",
        "plt.title('Training and validation accuracy')\n",
        "plt.legend()\n",
        "\n",
        "plt.figure()\n",
        "\n",
        "plt.plot(epochs, loss, 'bo', label='Training loss')\n",
        "plt.plot(epochs, val_loss, 'b', label='Validation loss')\n",
        "plt.title('Training and validation loss')\n",
        "plt.legend()\n",
        "\n",
        "plt.show()"
      ],
      "execution_count": 0,
      "outputs": [
        {
          "output_type": "display_data",
          "data": {
            "image/png": "[encoded data removed]",
            "text/plain": [
              "<matplotlib.figure.Figure at 0x7f8c13b34320>"
            ]
          },
          "metadata": {
            "tags": []
          }
        },
        {
          "output_type": "display_data",
          "data": {
            "image/png": "[encoded data removed]",
            "text/plain": [
              "<matplotlib.figure.Figure at 0x7f8c14b83198>"
            ]
          },
          "metadata": {
            "tags": []
          }
        }
      ]
    },
    {
      "metadata": {
        "id": "2HuTVk6XmUMY",
        "colab_type": "text"
      },
      "cell_type": "markdown",
      "source": [
        "As you can see, we reach a validation accuracy of about 96%. This is much better than our small convnet trained from scratch."
      ]
    },
    {
      "metadata": {
        "id": "F6fAmCLXmUMa",
        "colab_type": "text"
      },
      "cell_type": "markdown",
      "source": [
        "## Fine-tuning\n",
        "\n",
        "Another widely used technique for model reuse, complementary to feature extraction, is _fine-tuning_. \n",
        "Fine-tuning consists in unfreezing a few of the top layers \n",
        "of a frozen model base used for feature extraction, and jointly training both the newly added part of the model (in our case, the \n",
        "fully-connected classifier) and these top layers. This is called \"fine-tuning\" because it slightly adjusts the more abstract \n",
        "representations of the model being reused, in order to make them more relevant for the problem at hand.\n",
        "\n",
        "![fine-tuning VGG16](https://s3.amazonaws.com/book.keras.io/img/ch5/vgg16_fine_tuning.png)"
      ]
    },
    {
      "metadata": {
        "id": "CalVHRxCmUMc",
        "colab_type": "text"
      },
      "cell_type": "markdown",
      "source": [
        "We have stated before that it was necessary to freeze the convolution base of VGG16 in order to be able to train a randomly initialized \n",
        "classifier on top. For the same reason, it is only possible to fine-tune the top layers of the convolutional base once the classifier on \n",
        "top has already been trained. If the classified wasn't already trained, then the error signal propagating through the network during \n",
        "training would be too large, and the representations previously learned by the layers being fine-tuned would be destroyed. Thus the steps \n",
        "for fine-tuning a network are as follow:\n",
        "\n",
        "* 1) Add your custom network on top of an already trained base network.\n",
        "* 2) Freeze the base network.\n",
        "* 3) Train the part you added.\n",
        "* 4) Unfreeze some layers in the base network.\n",
        "* 5) Jointly train both these layers and the part you added.\n",
        "\n",
        "We have already completed the first 3 steps when doing feature extraction. Let's proceed with the 4th step: we will unfreeze our `conv_base`, \n",
        "and then freeze individual layers inside of it.\n",
        "\n",
        "As a reminder, this is what our convolutional base looks like:"
      ]
    },
    {
      "metadata": {
        "id": "ll6LbpGqmUMd",
        "colab_type": "code",
        "outputId": "91c753de-f938-4d98-9deb-8e0b04d33301",
        "colab": {
          "base_uri": "https://localhost:8080/",
          "height": 4771
        }
      },
      "cell_type": "code",
      "source": [
        "conv_base.summary()"
      ],
      "execution_count": 0,
      "outputs": [
        {
          "output_type": "stream",
          "text": [
            "__________________________________________________________________________________________________\n",
            "Layer (type)                    Output Shape         Param #     Connected to                     \n",
            "==================================================================================================\n",
            "input_3 (InputLayer)            (None, 150, 150, 3)  0                                            \n",
            "__________________________________________________________________________________________________\n",
            "block1_conv1 (Conv2D)           (None, 74, 74, 32)   864         input_3[0][0]                    \n",
            "__________________________________________________________________________________________________\n",
            "block1_conv1_bn (BatchNormaliza (None, 74, 74, 32)   128         block1_conv1[0][0]               \n",
            "__________________________________________________________________________________________________\n",
            "block1_conv1_act (Activation)   (None, 74, 74, 32)   0           block1_conv1_bn[0][0]            \n",
            "__________________________________________________________________________________________________\n",
            "block1_conv2 (Conv2D)           (None, 72, 72, 64)   18432       block1_conv1_act[0][0]           \n",
            "__________________________________________________________________________________________________\n",
            "block1_conv2_bn (BatchNormaliza (None, 72, 72, 64)   256         block1_conv2[0][0]               \n",
            "__________________________________________________________________________________________________\n",
            "block1_conv2_act (Activation)   (None, 72, 72, 64)   0           block1_conv2_bn[0][0]            \n",
            "__________________________________________________________________________________________________\n",
            "block2_sepconv1 (SeparableConv2 (None, 72, 72, 128)  8768        block1_conv2_act[0][0]           \n",
            "__________________________________________________________________________________________________\n",
            "block2_sepconv1_bn (BatchNormal (None, 72, 72, 128)  512         block2_sepconv1[0][0]            \n",
            "__________________________________________________________________________________________________\n",
            "block2_sepconv2_act (Activation (None, 72, 72, 128)  0           block2_sepconv1_bn[0][0]         \n",
            "__________________________________________________________________________________________________\n",
            "block2_sepconv2 (SeparableConv2 (None, 72, 72, 128)  17536       block2_sepconv2_act[0][0]        \n",
            "__________________________________________________________________________________________________\n",
            "block2_sepconv2_bn (BatchNormal (None, 72, 72, 128)  512         block2_sepconv2[0][0]            \n",
            "__________________________________________________________________________________________________\n",
            "conv2d_110 (Conv2D)             (None, 36, 36, 128)  8192        block1_conv2_act[0][0]           \n",
            "__________________________________________________________________________________________________\n",
            "block2_pool (MaxPooling2D)      (None, 36, 36, 128)  0           block2_sepconv2_bn[0][0]         \n",
            "__________________________________________________________________________________________________\n",
            "batch_normalization_99 (BatchNo (None, 36, 36, 128)  512         conv2d_110[0][0]                 \n",
            "__________________________________________________________________________________________________\n",
            "add_13 (Add)                    (None, 36, 36, 128)  0           block2_pool[0][0]                \n",
            "                                                                 batch_normalization_99[0][0]     \n",
            "__________________________________________________________________________________________________\n",
            "block3_sepconv1_act (Activation (None, 36, 36, 128)  0           add_13[0][0]                     \n",
            "__________________________________________________________________________________________________\n",
            "block3_sepconv1 (SeparableConv2 (None, 36, 36, 256)  33920       block3_sepconv1_act[0][0]        \n",
            "__________________________________________________________________________________________________\n",
            "block3_sepconv1_bn (BatchNormal (None, 36, 36, 256)  1024        block3_sepconv1[0][0]            \n",
            "__________________________________________________________________________________________________\n",
            "block3_sepconv2_act (Activation (None, 36, 36, 256)  0           block3_sepconv1_bn[0][0]         \n",
            "__________________________________________________________________________________________________\n",
            "block3_sepconv2 (SeparableConv2 (None, 36, 36, 256)  67840       block3_sepconv2_act[0][0]        \n",
            "__________________________________________________________________________________________________\n",
            "block3_sepconv2_bn (BatchNormal (None, 36, 36, 256)  1024        block3_sepconv2[0][0]            \n",
            "__________________________________________________________________________________________________\n",
            "conv2d_111 (Conv2D)             (None, 18, 18, 256)  32768       add_13[0][0]                     \n",
            "__________________________________________________________________________________________________\n",
            "block3_pool (MaxPooling2D)      (None, 18, 18, 256)  0           block3_sepconv2_bn[0][0]         \n",
            "__________________________________________________________________________________________________\n",
            "batch_normalization_100 (BatchN (None, 18, 18, 256)  1024        conv2d_111[0][0]                 \n",
            "__________________________________________________________________________________________________\n",
            "add_14 (Add)                    (None, 18, 18, 256)  0           block3_pool[0][0]                \n",
            "                                                                 batch_normalization_100[0][0]    \n",
            "__________________________________________________________________________________________________\n",
            "block4_sepconv1_act (Activation (None, 18, 18, 256)  0           add_14[0][0]                     \n",
            "__________________________________________________________________________________________________\n",
            "block4_sepconv1 (SeparableConv2 (None, 18, 18, 728)  188672      block4_sepconv1_act[0][0]        \n",
            "__________________________________________________________________________________________________\n",
            "block4_sepconv1_bn (BatchNormal (None, 18, 18, 728)  2912        block4_sepconv1[0][0]            \n",
            "__________________________________________________________________________________________________\n",
            "block4_sepconv2_act (Activation (None, 18, 18, 728)  0           block4_sepconv1_bn[0][0]         \n",
            "__________________________________________________________________________________________________\n",
            "block4_sepconv2 (SeparableConv2 (None, 18, 18, 728)  536536      block4_sepconv2_act[0][0]        \n",
            "__________________________________________________________________________________________________\n",
            "block4_sepconv2_bn (BatchNormal (None, 18, 18, 728)  2912        block4_sepconv2[0][0]            \n",
            "__________________________________________________________________________________________________\n",
            "conv2d_112 (Conv2D)             (None, 9, 9, 728)    186368      add_14[0][0]                     \n",
            "__________________________________________________________________________________________________\n",
            "block4_pool (MaxPooling2D)      (None, 9, 9, 728)    0           block4_sepconv2_bn[0][0]         \n",
            "__________________________________________________________________________________________________\n",
            "batch_normalization_101 (BatchN (None, 9, 9, 728)    2912        conv2d_112[0][0]                 \n",
            "__________________________________________________________________________________________________\n",
            "add_15 (Add)                    (None, 9, 9, 728)    0           block4_pool[0][0]                \n",
            "                                                                 batch_normalization_101[0][0]    \n",
            "__________________________________________________________________________________________________\n",
            "block5_sepconv1_act (Activation (None, 9, 9, 728)    0           add_15[0][0]                     \n",
            "__________________________________________________________________________________________________\n",
            "block5_sepconv1 (SeparableConv2 (None, 9, 9, 728)    536536      block5_sepconv1_act[0][0]        \n",
            "__________________________________________________________________________________________________\n",
            "block5_sepconv1_bn (BatchNormal (None, 9, 9, 728)    2912        block5_sepconv1[0][0]            \n",
            "__________________________________________________________________________________________________\n",
            "block5_sepconv2_act (Activation (None, 9, 9, 728)    0           block5_sepconv1_bn[0][0]         \n",
            "__________________________________________________________________________________________________\n",
            "block5_sepconv2 (SeparableConv2 (None, 9, 9, 728)    536536      block5_sepconv2_act[0][0]        \n",
            "__________________________________________________________________________________________________\n",
            "block5_sepconv2_bn (BatchNormal (None, 9, 9, 728)    2912        block5_sepconv2[0][0]            \n",
            "__________________________________________________________________________________________________\n",
            "block5_sepconv3_act (Activation (None, 9, 9, 728)    0           block5_sepconv2_bn[0][0]         \n",
            "__________________________________________________________________________________________________\n",
            "block5_sepconv3 (SeparableConv2 (None, 9, 9, 728)    536536      block5_sepconv3_act[0][0]        \n",
            "__________________________________________________________________________________________________\n",
            "block5_sepconv3_bn (BatchNormal (None, 9, 9, 728)    2912        block5_sepconv3[0][0]            \n",
            "__________________________________________________________________________________________________\n",
            "add_16 (Add)                    (None, 9, 9, 728)    0           block5_sepconv3_bn[0][0]         \n",
            "                                                                 add_15[0][0]                     \n",
            "__________________________________________________________________________________________________\n",
            "block6_sepconv1_act (Activation (None, 9, 9, 728)    0           add_16[0][0]                     \n",
            "__________________________________________________________________________________________________\n",
            "block6_sepconv1 (SeparableConv2 (None, 9, 9, 728)    536536      block6_sepconv1_act[0][0]        \n",
            "__________________________________________________________________________________________________\n",
            "block6_sepconv1_bn (BatchNormal (None, 9, 9, 728)    2912        block6_sepconv1[0][0]            \n",
            "__________________________________________________________________________________________________\n",
            "block6_sepconv2_act (Activation (None, 9, 9, 728)    0           block6_sepconv1_bn[0][0]         \n",
            "__________________________________________________________________________________________________\n",
            "block6_sepconv2 (SeparableConv2 (None, 9, 9, 728)    536536      block6_sepconv2_act[0][0]        \n",
            "__________________________________________________________________________________________________\n",
            "block6_sepconv2_bn (BatchNormal (None, 9, 9, 728)    2912        block6_sepconv2[0][0]            \n",
            "__________________________________________________________________________________________________\n",
            "block6_sepconv3_act (Activation (None, 9, 9, 728)    0           block6_sepconv2_bn[0][0]         \n",
            "__________________________________________________________________________________________________\n",
            "block6_sepconv3 (SeparableConv2 (None, 9, 9, 728)    536536      block6_sepconv3_act[0][0]        \n",
            "__________________________________________________________________________________________________\n",
            "block6_sepconv3_bn (BatchNormal (None, 9, 9, 728)    2912        block6_sepconv3[0][0]            \n",
            "__________________________________________________________________________________________________\n",
            "add_17 (Add)                    (None, 9, 9, 728)    0           block6_sepconv3_bn[0][0]         \n",
            "                                                                 add_16[0][0]                     \n",
            "__________________________________________________________________________________________________\n",
            "block7_sepconv1_act (Activation (None, 9, 9, 728)    0           add_17[0][0]                     \n",
            "__________________________________________________________________________________________________\n",
            "block7_sepconv1 (SeparableConv2 (None, 9, 9, 728)    536536      block7_sepconv1_act[0][0]        \n",
            "__________________________________________________________________________________________________\n",
            "block7_sepconv1_bn (BatchNormal (None, 9, 9, 728)    2912        block7_sepconv1[0][0]            \n",
            "__________________________________________________________________________________________________\n",
            "block7_sepconv2_act (Activation (None, 9, 9, 728)    0           block7_sepconv1_bn[0][0]         \n",
            "__________________________________________________________________________________________________\n",
            "block7_sepconv2 (SeparableConv2 (None, 9, 9, 728)    536536      block7_sepconv2_act[0][0]        \n",
            "__________________________________________________________________________________________________\n",
            "block7_sepconv2_bn (BatchNormal (None, 9, 9, 728)    2912        block7_sepconv2[0][0]            \n",
            "__________________________________________________________________________________________________\n",
            "block7_sepconv3_act (Activation (None, 9, 9, 728)    0           block7_sepconv2_bn[0][0]         \n",
            "__________________________________________________________________________________________________\n",
            "block7_sepconv3 (SeparableConv2 (None, 9, 9, 728)    536536      block7_sepconv3_act[0][0]        \n",
            "__________________________________________________________________________________________________\n",
            "block7_sepconv3_bn (BatchNormal (None, 9, 9, 728)    2912        block7_sepconv3[0][0]            \n",
            "__________________________________________________________________________________________________\n",
            "add_18 (Add)                    (None, 9, 9, 728)    0           block7_sepconv3_bn[0][0]         \n",
            "                                                                 add_17[0][0]                     \n",
            "__________________________________________________________________________________________________\n",
            "block8_sepconv1_act (Activation (None, 9, 9, 728)    0           add_18[0][0]                     \n",
            "__________________________________________________________________________________________________\n",
            "block8_sepconv1 (SeparableConv2 (None, 9, 9, 728)    536536      block8_sepconv1_act[0][0]        \n",
            "__________________________________________________________________________________________________\n",
            "block8_sepconv1_bn (BatchNormal (None, 9, 9, 728)    2912        block8_sepconv1[0][0]            \n",
            "__________________________________________________________________________________________________\n",
            "block8_sepconv2_act (Activation (None, 9, 9, 728)    0           block8_sepconv1_bn[0][0]         \n",
            "__________________________________________________________________________________________________\n",
            "block8_sepconv2 (SeparableConv2 (None, 9, 9, 728)    536536      block8_sepconv2_act[0][0]        \n",
            "__________________________________________________________________________________________________\n",
            "block8_sepconv2_bn (BatchNormal (None, 9, 9, 728)    2912        block8_sepconv2[0][0]            \n",
            "__________________________________________________________________________________________________\n",
            "block8_sepconv3_act (Activation (None, 9, 9, 728)    0           block8_sepconv2_bn[0][0]         \n",
            "__________________________________________________________________________________________________\n",
            "block8_sepconv3 (SeparableConv2 (None, 9, 9, 728)    536536      block8_sepconv3_act[0][0]        \n",
            "__________________________________________________________________________________________________\n",
            "block8_sepconv3_bn (BatchNormal (None, 9, 9, 728)    2912        block8_sepconv3[0][0]            \n",
            "__________________________________________________________________________________________________\n",
            "add_19 (Add)                    (None, 9, 9, 728)    0           block8_sepconv3_bn[0][0]         \n",
            "                                                                 add_18[0][0]                     \n",
            "__________________________________________________________________________________________________\n",
            "block9_sepconv1_act (Activation (None, 9, 9, 728)    0           add_19[0][0]                     \n",
            "__________________________________________________________________________________________________\n",
            "block9_sepconv1 (SeparableConv2 (None, 9, 9, 728)    536536      block9_sepconv1_act[0][0]        \n",
            "__________________________________________________________________________________________________\n",
            "block9_sepconv1_bn (BatchNormal (None, 9, 9, 728)    2912        block9_sepconv1[0][0]            \n",
            "__________________________________________________________________________________________________\n",
            "block9_sepconv2_act (Activation (None, 9, 9, 728)    0           block9_sepconv1_bn[0][0]         \n",
            "__________________________________________________________________________________________________\n",
            "block9_sepconv2 (SeparableConv2 (None, 9, 9, 728)    536536      block9_sepconv2_act[0][0]        \n",
            "__________________________________________________________________________________________________\n",
            "block9_sepconv2_bn (BatchNormal (None, 9, 9, 728)    2912        block9_sepconv2[0][0]            \n",
            "__________________________________________________________________________________________________\n",
            "block9_sepconv3_act (Activation (None, 9, 9, 728)    0           block9_sepconv2_bn[0][0]         \n",
            "__________________________________________________________________________________________________\n",
            "block9_sepconv3 (SeparableConv2 (None, 9, 9, 728)    536536      block9_sepconv3_act[0][0]        \n",
            "__________________________________________________________________________________________________\n",
            "block9_sepconv3_bn (BatchNormal (None, 9, 9, 728)    2912        block9_sepconv3[0][0]            \n",
            "__________________________________________________________________________________________________\n",
            "add_20 (Add)                    (None, 9, 9, 728)    0           block9_sepconv3_bn[0][0]         \n",
            "                                                                 add_19[0][0]                     \n",
            "__________________________________________________________________________________________________\n",
            "block10_sepconv1_act (Activatio (None, 9, 9, 728)    0           add_20[0][0]                     \n",
            "__________________________________________________________________________________________________\n",
            "block10_sepconv1 (SeparableConv (None, 9, 9, 728)    536536      block10_sepconv1_act[0][0]       \n",
            "__________________________________________________________________________________________________\n",
            "block10_sepconv1_bn (BatchNorma (None, 9, 9, 728)    2912        block10_sepconv1[0][0]           \n",
            "__________________________________________________________________________________________________\n",
            "block10_sepconv2_act (Activatio (None, 9, 9, 728)    0           block10_sepconv1_bn[0][0]        \n",
            "__________________________________________________________________________________________________\n",
            "block10_sepconv2 (SeparableConv (None, 9, 9, 728)    536536      block10_sepconv2_act[0][0]       \n",
            "__________________________________________________________________________________________________\n",
            "block10_sepconv2_bn (BatchNorma (None, 9, 9, 728)    2912        block10_sepconv2[0][0]           \n",
            "__________________________________________________________________________________________________\n",
            "block10_sepconv3_act (Activatio (None, 9, 9, 728)    0           block10_sepconv2_bn[0][0]        \n",
            "__________________________________________________________________________________________________\n",
            "block10_sepconv3 (SeparableConv (None, 9, 9, 728)    536536      block10_sepconv3_act[0][0]       \n",
            "__________________________________________________________________________________________________\n",
            "block10_sepconv3_bn (BatchNorma (None, 9, 9, 728)    2912        block10_sepconv3[0][0]           \n",
            "__________________________________________________________________________________________________\n",
            "add_21 (Add)                    (None, 9, 9, 728)    0           block10_sepconv3_bn[0][0]        \n",
            "                                                                 add_20[0][0]                     \n",
            "__________________________________________________________________________________________________\n",
            "block11_sepconv1_act (Activatio (None, 9, 9, 728)    0           add_21[0][0]                     \n",
            "__________________________________________________________________________________________________\n",
            "block11_sepconv1 (SeparableConv (None, 9, 9, 728)    536536      block11_sepconv1_act[0][0]       \n",
            "__________________________________________________________________________________________________\n",
            "block11_sepconv1_bn (BatchNorma (None, 9, 9, 728)    2912        block11_sepconv1[0][0]           \n",
            "__________________________________________________________________________________________________\n",
            "block11_sepconv2_act (Activatio (None, 9, 9, 728)    0           block11_sepconv1_bn[0][0]        \n",
            "__________________________________________________________________________________________________\n",
            "block11_sepconv2 (SeparableConv (None, 9, 9, 728)    536536      block11_sepconv2_act[0][0]       \n",
            "__________________________________________________________________________________________________\n",
            "block11_sepconv2_bn (BatchNorma (None, 9, 9, 728)    2912        block11_sepconv2[0][0]           \n",
            "__________________________________________________________________________________________________\n",
            "block11_sepconv3_act (Activatio (None, 9, 9, 728)    0           block11_sepconv2_bn[0][0]        \n",
            "__________________________________________________________________________________________________\n",
            "block11_sepconv3 (SeparableConv (None, 9, 9, 728)    536536      block11_sepconv3_act[0][0]       \n",
            "__________________________________________________________________________________________________\n",
            "block11_sepconv3_bn (BatchNorma (None, 9, 9, 728)    2912        block11_sepconv3[0][0]           \n",
            "__________________________________________________________________________________________________\n",
            "add_22 (Add)                    (None, 9, 9, 728)    0           block11_sepconv3_bn[0][0]        \n",
            "                                                                 add_21[0][0]                     \n",
            "__________________________________________________________________________________________________\n",
            "block12_sepconv1_act (Activatio (None, 9, 9, 728)    0           add_22[0][0]                     \n",
            "__________________________________________________________________________________________________\n",
            "block12_sepconv1 (SeparableConv (None, 9, 9, 728)    536536      block12_sepconv1_act[0][0]       \n",
            "__________________________________________________________________________________________________\n",
            "block12_sepconv1_bn (BatchNorma (None, 9, 9, 728)    2912        block12_sepconv1[0][0]           \n",
            "__________________________________________________________________________________________________\n",
            "block12_sepconv2_act (Activatio (None, 9, 9, 728)    0           block12_sepconv1_bn[0][0]        \n",
            "__________________________________________________________________________________________________\n",
            "block12_sepconv2 (SeparableConv (None, 9, 9, 728)    536536      block12_sepconv2_act[0][0]       \n",
            "__________________________________________________________________________________________________\n",
            "block12_sepconv2_bn (BatchNorma (None, 9, 9, 728)    2912        block12_sepconv2[0][0]           \n",
            "__________________________________________________________________________________________________\n",
            "block12_sepconv3_act (Activatio (None, 9, 9, 728)    0           block12_sepconv2_bn[0][0]        \n",
            "__________________________________________________________________________________________________\n",
            "block12_sepconv3 (SeparableConv (None, 9, 9, 728)    536536      block12_sepconv3_act[0][0]       \n",
            "__________________________________________________________________________________________________\n",
            "block12_sepconv3_bn (BatchNorma (None, 9, 9, 728)    2912        block12_sepconv3[0][0]           \n",
            "__________________________________________________________________________________________________\n",
            "add_23 (Add)                    (None, 9, 9, 728)    0           block12_sepconv3_bn[0][0]        \n",
            "                                                                 add_22[0][0]                     \n",
            "__________________________________________________________________________________________________\n",
            "block13_sepconv1_act (Activatio (None, 9, 9, 728)    0           add_23[0][0]                     \n",
            "__________________________________________________________________________________________________\n",
            "block13_sepconv1 (SeparableConv (None, 9, 9, 728)    536536      block13_sepconv1_act[0][0]       \n",
            "__________________________________________________________________________________________________\n",
            "block13_sepconv1_bn (BatchNorma (None, 9, 9, 728)    2912        block13_sepconv1[0][0]           \n",
            "__________________________________________________________________________________________________\n",
            "block13_sepconv2_act (Activatio (None, 9, 9, 728)    0           block13_sepconv1_bn[0][0]        \n",
            "__________________________________________________________________________________________________\n",
            "block13_sepconv2 (SeparableConv (None, 9, 9, 1024)   752024      block13_sepconv2_act[0][0]       \n",
            "__________________________________________________________________________________________________\n",
            "block13_sepconv2_bn (BatchNorma (None, 9, 9, 1024)   4096        block13_sepconv2[0][0]           \n",
            "__________________________________________________________________________________________________\n",
            "conv2d_113 (Conv2D)             (None, 5, 5, 1024)   745472      add_23[0][0]                     \n",
            "__________________________________________________________________________________________________\n",
            "block13_pool (MaxPooling2D)     (None, 5, 5, 1024)   0           block13_sepconv2_bn[0][0]        \n",
            "__________________________________________________________________________________________________\n",
            "batch_normalization_102 (BatchN (None, 5, 5, 1024)   4096        conv2d_113[0][0]                 \n",
            "__________________________________________________________________________________________________\n",
            "add_24 (Add)                    (None, 5, 5, 1024)   0           block13_pool[0][0]               \n",
            "                                                                 batch_normalization_102[0][0]    \n",
            "__________________________________________________________________________________________________\n",
            "block14_sepconv1 (SeparableConv (None, 5, 5, 1536)   1582080     add_24[0][0]                     \n",
            "__________________________________________________________________________________________________\n",
            "block14_sepconv1_bn (BatchNorma (None, 5, 5, 1536)   6144        block14_sepconv1[0][0]           \n",
            "__________________________________________________________________________________________________\n",
            "block14_sepconv1_act (Activatio (None, 5, 5, 1536)   0           block14_sepconv1_bn[0][0]        \n",
            "__________________________________________________________________________________________________\n",
            "block14_sepconv2 (SeparableConv (None, 5, 5, 2048)   3159552     block14_sepconv1_act[0][0]       \n",
            "__________________________________________________________________________________________________\n",
            "block14_sepconv2_bn (BatchNorma (None, 5, 5, 2048)   8192        block14_sepconv2[0][0]           \n",
            "__________________________________________________________________________________________________\n",
            "block14_sepconv2_act (Activatio (None, 5, 5, 2048)   0           block14_sepconv2_bn[0][0]        \n",
            "==================================================================================================\n",
            "Total params: 20,861,480\n",
            "Trainable params: 0\n",
            "Non-trainable params: 20,861,480\n",
            "__________________________________________________________________________________________________\n"
          ],
          "name": "stdout"
        }
      ]
    },
    {
      "metadata": {
        "id": "kM_vaoVEmUMi",
        "colab_type": "text"
      },
      "cell_type": "markdown",
      "source": [
        "\n",
        "We will fine-tune the last 3 convolutional layers, which means that all layers up until `block4_pool` should be frozen, and the layers \n",
        "`block5_conv1`, `block5_conv2` and `block5_conv3` should be trainable.\n",
        "\n",
        "Why not fine-tune more layers? Why not fine-tune the entire convolutional base? We could. However, we need to consider that:\n",
        "\n",
        "* Earlier layers in the convolutional base encode more generic, reusable features, while layers higher up encode more specialized features. It is \n",
        "more useful to fine-tune the more specialized features, as these are the ones that need to be repurposed on our new problem. There would \n",
        "be fast-decreasing returns in fine-tuning lower layers.\n",
        "* The more parameters we are training, the more we are at risk of overfitting. The convolutional base has 15M parameters, so it would be \n",
        "risky to attempt to train it on our small dataset.\n",
        "\n",
        "Thus, in our situation, it is a good strategy to only fine-tune the top 2 to 3 layers in the convolutional base.\n",
        "\n",
        "Let's set this up, starting from where we left off in the previous example:"
      ]
    },
    {
      "metadata": {
        "id": "LwFbx08pmUMj",
        "colab_type": "code",
        "colab": {}
      },
      "cell_type": "code",
      "source": [
        "conv_base.trainable = True\n",
        "\n",
        "set_trainable = False\n",
        "for layer in conv_base.layers:\n",
        "    if layer.name == 'block14_sepconv1':\n",
        "        set_trainable = True\n",
        "    if set_trainable:\n",
        "        layer.trainable = True\n",
        "    else:\n",
        "        layer.trainable = False"
      ],
      "execution_count": 0,
      "outputs": []
    },
    {
      "metadata": {
        "id": "wz7tWcTAmUMl",
        "colab_type": "text"
      },
      "cell_type": "markdown",
      "source": [
        "Now we can start fine-tuning our network. We will do this with the RMSprop optimizer, using a very low learning rate. The reason for using \n",
        "a low learning rate is that we want to limit the magnitude of the modifications we make to the representations of the 3 layers that we are \n",
        "fine-tuning. Updates that are too large may harm these representations.\n",
        "\n",
        "Now let's proceed with fine-tuning:"
      ]
    },
    {
      "metadata": {
        "id": "sYvqmdR_mUMm",
        "colab_type": "code",
        "outputId": "4d5a64f1-8074-4db8-d458-421eab4c3ac4",
        "colab": {
          "base_uri": "https://localhost:8080/",
          "height": 689
        }
      },
      "cell_type": "code",
      "source": [
        "model.compile(loss='binary_crossentropy',\n",
        "              optimizer=optimizers.RMSprop(lr=1e-5),\n",
        "              metrics=['acc'])\n",
        "\n",
        "history = model.fit_generator(\n",
        "      train_generator,\n",
        "      steps_per_epoch=20,\n",
        "      epochs=20,\n",
        "      validation_data=validation_generator,\n",
        "      validation_steps=50)"
      ],
      "execution_count": 0,
      "outputs": [
        {
          "output_type": "stream",
          "text": [
            "Epoch 1/20\n",
            "20/20 [==============================] - 16s 810ms/step - loss: 0.2589 - acc: 0.8775 - val_loss: 0.2916 - val_acc: 0.8860\n",
            "Epoch 2/20\n",
            "20/20 [==============================] - 8s 407ms/step - loss: 0.2671 - acc: 0.8825 - val_loss: 0.1840 - val_acc: 0.9260\n",
            "Epoch 3/20\n",
            "20/20 [==============================] - 8s 408ms/step - loss: 0.3278 - acc: 0.8450 - val_loss: 0.2143 - val_acc: 0.9150\n",
            "Epoch 4/20\n",
            "20/20 [==============================] - 8s 411ms/step - loss: 0.2840 - acc: 0.8750 - val_loss: 0.1824 - val_acc: 0.9270\n",
            "Epoch 5/20\n",
            "20/20 [==============================] - 8s 411ms/step - loss: 0.3357 - acc: 0.8475 - val_loss: 0.2040 - val_acc: 0.9200\n",
            "Epoch 6/20\n",
            "20/20 [==============================] - 8s 415ms/step - loss: 0.2960 - acc: 0.8600 - val_loss: 0.1867 - val_acc: 0.9230\n",
            "Epoch 7/20\n",
            "20/20 [==============================] - 8s 411ms/step - loss: 0.2620 - acc: 0.8900 - val_loss: 0.1923 - val_acc: 0.9290\n",
            "Epoch 8/20\n",
            "20/20 [==============================] - 8s 413ms/step - loss: 0.2878 - acc: 0.8750 - val_loss: 0.1921 - val_acc: 0.9130\n",
            "Epoch 9/20\n",
            "20/20 [==============================] - 8s 410ms/step - loss: 0.3492 - acc: 0.8500 - val_loss: 0.1920 - val_acc: 0.9240\n",
            "Epoch 10/20\n",
            "20/20 [==============================] - 8s 409ms/step - loss: 0.2334 - acc: 0.8825 - val_loss: 0.1869 - val_acc: 0.9270\n",
            "Epoch 11/20\n",
            "20/20 [==============================] - 8s 411ms/step - loss: 0.2707 - acc: 0.8775 - val_loss: 0.2302 - val_acc: 0.9080\n",
            "Epoch 12/20\n",
            "20/20 [==============================] - 8s 409ms/step - loss: 0.2861 - acc: 0.8800 - val_loss: 0.1870 - val_acc: 0.9290\n",
            "Epoch 13/20\n",
            "20/20 [==============================] - 8s 414ms/step - loss: 0.2465 - acc: 0.9075 - val_loss: 0.1947 - val_acc: 0.9290\n",
            "Epoch 14/20\n",
            "20/20 [==============================] - 8s 413ms/step - loss: 0.2790 - acc: 0.8800 - val_loss: 0.1790 - val_acc: 0.9220\n",
            "Epoch 15/20\n",
            "20/20 [==============================] - 8s 412ms/step - loss: 0.2891 - acc: 0.8575 - val_loss: 0.2022 - val_acc: 0.9150\n",
            "Epoch 16/20\n",
            "20/20 [==============================] - 8s 416ms/step - loss: 0.2631 - acc: 0.8850 - val_loss: 0.1820 - val_acc: 0.9300\n",
            "Epoch 17/20\n",
            "20/20 [==============================] - 8s 413ms/step - loss: 0.2912 - acc: 0.8625 - val_loss: 0.2151 - val_acc: 0.9110\n",
            "Epoch 18/20\n",
            "20/20 [==============================] - 8s 415ms/step - loss: 0.2668 - acc: 0.8825 - val_loss: 0.1798 - val_acc: 0.9320\n",
            "Epoch 19/20\n",
            "20/20 [==============================] - 8s 410ms/step - loss: 0.2723 - acc: 0.8850 - val_loss: 0.1884 - val_acc: 0.9210\n",
            "Epoch 20/20\n",
            "20/20 [==============================] - 8s 414ms/step - loss: 0.2537 - acc: 0.8900 - val_loss: 0.1877 - val_acc: 0.9130\n"
          ],
          "name": "stdout"
        }
      ]
    },
    {
      "metadata": {
        "id": "RrSEKQBcmUMs",
        "colab_type": "code",
        "colab": {}
      },
      "cell_type": "code",
      "source": [
        "model.save('cats_and_dogs_small_4.h5')"
      ],
      "execution_count": 0,
      "outputs": []
    },
    {
      "metadata": {
        "id": "F8aqk7BPmUMu",
        "colab_type": "text"
      },
      "cell_type": "markdown",
      "source": [
        "Let's plot our results using the same plotting code as before:"
      ]
    },
    {
      "metadata": {
        "id": "mL3AVIzKmUMv",
        "colab_type": "code",
        "outputId": "825b3f3b-0da0-477b-bcdb-c0c0ae2d401c",
        "colab": {
          "base_uri": "https://localhost:8080/",
          "height": 706
        }
      },
      "cell_type": "code",
      "source": [
        "acc = history.history['acc']\n",
        "val_acc = history.history['val_acc']\n",
        "loss = history.history['loss']\n",
        "val_loss = history.history['val_loss']\n",
        "\n",
        "epochs = range(len(acc))\n",
        "\n",
        "plt.plot(epochs, acc, 'bo', label='Training acc')\n",
        "plt.plot(epochs, val_acc, 'b', label='Validation acc')\n",
        "plt.title('Training and validation accuracy')\n",
        "plt.legend()\n",
        "\n",
        "plt.figure()\n",
        "\n",
        "plt.plot(epochs, loss, 'bo', label='Training loss')\n",
        "plt.plot(epochs, val_loss, 'b', label='Validation loss')\n",
        "plt.title('Training and validation loss')\n",
        "plt.legend()\n",
        "\n",
        "plt.show()"
      ],
      "execution_count": 0,
      "outputs": [
        {
          "output_type": "display_data",
          "data": {
            "image/png": "[encoded data removed]",
            "text/plain": [
              "<matplotlib.figure.Figure at 0x7f8c1466b828>"
            ]
          },
          "metadata": {
            "tags": []
          }
        },
        {
          "output_type": "display_data",
          "data": {
            "image/png": "[encoded data removed]",
            "text/plain": [
              "<matplotlib.figure.Figure at 0x7f8c1462b470>"
            ]
          },
          "metadata": {
            "tags": []
          }
        }
      ]
    },
    {
      "metadata": {
        "id": "31o0j3UhmUMy",
        "colab_type": "text"
      },
      "cell_type": "markdown",
      "source": [
        "\n",
        "These curves look very noisy. To make them more readable, we can smooth them by replacing every loss and accuracy with exponential moving \n",
        "averages of these quantities. Here's a trivial utility function to do this:"
      ]
    },
    {
      "metadata": {
        "id": "ejuMwcSFmUMz",
        "colab_type": "code",
        "outputId": "8862cf2a-e5bc-4c1f-98d7-7092d213742c",
        "colab": {
          "base_uri": "https://localhost:8080/",
          "height": 706
        }
      },
      "cell_type": "code",
      "source": [
        "def smooth_curve(points, factor=0.8):\n",
        "  smoothed_points = []\n",
        "  for point in points:\n",
        "    if smoothed_points:\n",
        "      previous = smoothed_points[-1]\n",
        "      smoothed_points.append(previous * factor + point * (1 - factor))\n",
        "    else:\n",
        "      smoothed_points.append(point)\n",
        "  return smoothed_points\n",
        "\n",
        "plt.plot(epochs,\n",
        "         smooth_curve(acc), 'bo', label='Smoothed training acc')\n",
        "plt.plot(epochs,\n",
        "         smooth_curve(val_acc), 'b', label='Smoothed validation acc')\n",
        "plt.title('Training and validation accuracy')\n",
        "plt.legend()\n",
        "\n",
        "plt.figure()\n",
        "\n",
        "plt.plot(epochs,\n",
        "         smooth_curve(loss), 'bo', label='Smoothed training loss')\n",
        "plt.plot(epochs,\n",
        "         smooth_curve(val_loss), 'b', label='Smoothed validation loss')\n",
        "plt.title('Training and validation loss')\n",
        "plt.legend()\n",
        "\n",
        "plt.show()"
      ],
      "execution_count": 0,
      "outputs": [
        {
          "output_type": "display_data",
          "data": {
            "image/png": "[encoded data removed]",
            "text/plain": [
              "<matplotlib.figure.Figure at 0x7f8c1bb15ef0>"
            ]
          },
          "metadata": {
            "tags": []
          }
        },
        {
          "output_type": "display_data",
          "data": {
            "image/png": "[encoded data removed]",
            "text/plain": [
              "<matplotlib.figure.Figure at 0x7f8c1bae7d68>"
            ]
          },
          "metadata": {
            "tags": []
          }
        }
      ]
    },
    {
      "metadata": {
        "id": "8LfKmPOdmUM3",
        "colab_type": "text"
      },
      "cell_type": "markdown",
      "source": [
        "\n",
        "These curves look much cleaner and more stable. We are seeing a nice 1% absolute improvement.\n",
        "\n",
        "Note that the loss curve does not show any real improvement (in fact, it is deteriorating). You may wonder, how could accuracy improve if the \n",
        "loss isn't decreasing? The answer is simple: what we display is an average of pointwise loss values, but what actually matters for accuracy \n",
        "is the distribution of the loss values, not their average, since accuracy is the result of a binary thresholding of the class probability \n",
        "predicted by the model. The model may still be improving even if this isn't reflected in the average loss.\n",
        "\n",
        "We can now finally evaluate this model on the test data:"
      ]
    },
    {
      "metadata": {
        "id": "tGUfJE8gmUM3",
        "colab_type": "code",
        "outputId": "c0d9d5ca-c5eb-4460-fe42-103d62aef4dc",
        "colab": {
          "base_uri": "https://localhost:8080/",
          "height": 50
        }
      },
      "cell_type": "code",
      "source": [
        "test_generator = test_datagen.flow_from_directory(\n",
        "        test_dir,\n",
        "        target_size=(150, 150),\n",
        "        batch_size=20,\n",
        "        class_mode='binary')\n",
        "\n",
        "test_loss, test_acc = model.evaluate_generator(test_generator, steps=50)\n",
        "print('test acc:', test_acc)"
      ],
      "execution_count": 0,
      "outputs": [
        {
          "output_type": "stream",
          "text": [
            "Found 1000 images belonging to 2 classes.\n",
            "test acc: 0.9329999911785126\n"
          ],
          "name": "stdout"
        }
      ]
    },
    {
      "metadata": {
        "id": "YILhtr8xmUM7",
        "colab_type": "text"
      },
      "cell_type": "markdown",
      "source": [
        "\n",
        "Here we get a test accuracy of 97%. In the original Kaggle competition around this dataset, this would have been one of the top results. \n",
        "However, using modern deep learning techniques, we managed to reach this result using only a very small fraction of the training data \n",
        "available (about 10%). There is a huge difference between being able to train on 20,000 samples compared to 2,000 samples!"
      ]
    },
    {
      "metadata": {
        "id": "Rz3Ost8_mUM9",
        "colab_type": "text"
      },
      "cell_type": "markdown",
      "source": [
        "## Take-aways: using convnets with small datasets\n",
        "\n",
        "Here's what you should take away from the exercises of these past two sections:\n",
        "\n",
        "* Convnets are the best type of machine learning models for computer vision tasks. It is possible to train one from scratch even on a very \n",
        "small dataset, with decent results.\n",
        "* On a small dataset, overfitting will be the main issue. Data augmentation is a powerful way to fight overfitting when working with image \n",
        "data.\n",
        "* It is easy to reuse an existing convnet on a new dataset, via feature extraction. This is a very valuable technique for working with \n",
        "small image datasets.\n",
        "* As a complement to feature extraction, one may use fine-tuning, which adapts to a new problem some of the representations previously \n",
        "learned by an existing model. This pushes performance a bit further.\n",
        "\n",
        "Now you have a solid set of tools for dealing with image classification problems, in particular with small datasets."
      ]
    },
    {
      "metadata": {
        "id": "Lx66A1aEmbcO",
        "colab_type": "text"
      },
      "cell_type": "markdown",
      "source": [
        "# 5.4 - Visualizing what convnets learn\n",
        "\n",
        "This notebook contains the code sample found in Chapter 5, Section 4 of [Deep Learning with Python](https://www.manning.com/books/deep-learning-with-python?a_aid=keras&a_bid=76564dff). Note that the original text features far more content, in particular further explanations and figures: in this notebook, you will only find source code and related comments.\n",
        "\n",
        "----\n",
        "\n",
        "It is often said that deep learning models are \"black boxes\", learning representations that are difficult to extract and present in a \n",
        "human-readable form. While this is partially true for certain types of deep learning models, it is definitely not true for convnets. The \n",
        "representations learned by convnets are highly amenable to visualization, in large part because they are _representations of visual \n",
        "concepts_. Since 2013, a wide array of techniques have been developed for visualizing and interpreting these representations. We won't \n",
        "survey all of them, but we will cover three of the most accessible and useful ones:\n",
        "\n",
        "* Visualizing intermediate convnet outputs (\"intermediate activations\"). This is useful to understand how successive convnet layers \n",
        "transform their input, and to get a first idea of the meaning of individual convnet filters.\n",
        "* Visualizing convnets filters. This is useful to understand precisely what visual pattern or concept each filter in a convnet is receptive \n",
        "to.\n",
        "* Visualizing heatmaps of class activation in an image. This is useful to understand which part of an image where identified as belonging \n",
        "to a given class, and thus allows to localize objects in images.\n",
        "\n",
        "For the first method -- activation visualization -- we will use the small convnet that we trained from scratch on the cat vs. dog \n",
        "classification problem two sections ago. For the next two methods, we will use the VGG16 model that we introduced in the previous section."
      ]
    },
    {
      "metadata": {
        "id": "9FJ0xpkAmbcP",
        "colab_type": "text"
      },
      "cell_type": "markdown",
      "source": [
        "## Visualizing intermediate activations\n",
        "\n",
        "Visualizing intermediate activations consists in displaying the feature maps that are output by various convolution and pooling layers in a \n",
        "network, given a certain input (the output of a layer is often called its \"activation\", the output of the activation function). This gives \n",
        "a view into how an input is decomposed unto the different filters learned by the network. These feature maps we want to visualize have 3 \n",
        "dimensions: width, height, and depth (channels). Each channel encodes relatively independent features, so the proper way to visualize these \n",
        "feature maps is by independently plotting the contents of every channel, as a 2D image.\n",
        "Let's start by loading the model that we saved in section 5.2:"
      ]
    },
    {
      "metadata": {
        "id": "yi-OjXeZmbcP",
        "colab_type": "code",
        "colab": {}
      },
      "cell_type": "code",
      "source": [
        "from keras.models import load_model\n",
        "\n",
        "model = load_model('cats_and_dogs_small_2.h5')\n",
        "model.summary()  # As a reminder."
      ],
      "execution_count": 0,
      "outputs": []
    },
    {
      "metadata": {
        "id": "ZZNirQ3ombcS",
        "colab_type": "text"
      },
      "cell_type": "markdown",
      "source": [
        "This will be the input image we will use -- a picture of a cat, not part of images that the network was trained on:"
      ]
    },
    {
      "metadata": {
        "id": "nletkIg3mbcT",
        "colab_type": "code",
        "colab": {}
      },
      "cell_type": "code",
      "source": [
        "img_path = 'data/test/cats/cat.1700.jpg'\n",
        "\n",
        "# We preprocess the image into a 4D tensor\n",
        "from keras.preprocessing import image\n",
        "import numpy as np\n",
        "\n",
        "img = image.load_img(img_path, target_size=(150, 150))\n",
        "img_tensor = image.img_to_array(img)\n",
        "img_tensor = np.expand_dims(img_tensor, axis=0)\n",
        "# Remember that the model was trained on inputs\n",
        "# that were preprocessed in the following way:\n",
        "img_tensor /= 255.\n",
        "\n",
        "# Its shape is (1, 150, 150, 3)\n",
        "print(img_tensor.shape)"
      ],
      "execution_count": 0,
      "outputs": []
    },
    {
      "metadata": {
        "id": "FxwYCX3-mbcW",
        "colab_type": "text"
      },
      "cell_type": "markdown",
      "source": [
        "Let's display our picture:"
      ]
    },
    {
      "metadata": {
        "id": "rqwj_wIEmbcX",
        "colab_type": "code",
        "colab": {}
      },
      "cell_type": "code",
      "source": [
        "import matplotlib.pyplot as plt\n",
        "\n",
        "plt.imshow(img_tensor[0])\n",
        "plt.show()"
      ],
      "execution_count": 0,
      "outputs": []
    },
    {
      "metadata": {
        "id": "l7MDFaCLmbca",
        "colab_type": "text"
      },
      "cell_type": "markdown",
      "source": [
        "In order to extract the feature maps we want to look at, we will create a Keras model that takes batches of images as input, and outputs \n",
        "the activations of all convolution and pooling layers. To do this, we will use the Keras class `Model`. A `Model` is instantiated using two \n",
        "arguments: an input tensor (or list of input tensors), and an output tensor (or list of output tensors). The resulting class is a Keras \n",
        "model, just like the `Sequential` models that you are familiar with, mapping the specified inputs to the specified outputs. What sets the \n",
        "`Model` class apart is that it allows for models with multiple outputs, unlike `Sequential`. For more information about the `Model` class, see \n",
        "Chapter 7, Section 1."
      ]
    },
    {
      "metadata": {
        "id": "VHmyvSqcmbca",
        "colab_type": "code",
        "colab": {}
      },
      "cell_type": "code",
      "source": [
        "from keras import models\n",
        "\n",
        "# Extracts the outputs of the top 8 layers:\n",
        "layer_outputs = [layer.output for layer in model.layers[:8]]\n",
        "# Creates a model that will return these outputs, given the model input:\n",
        "activation_model = models.Model(inputs=model.input, outputs=layer_outputs)"
      ],
      "execution_count": 0,
      "outputs": []
    },
    {
      "metadata": {
        "id": "giRJ4LoPmbcc",
        "colab_type": "text"
      },
      "cell_type": "markdown",
      "source": [
        "When fed an image input, this model returns the values of the layer activations in the original model. This is the first time you encounter \n",
        "a multi-output model in this book: until now the models you have seen only had exactly one input and one output. In the general case, a \n",
        "model could have any number of inputs and outputs. This one has one input and 8 outputs, one output per layer activation."
      ]
    },
    {
      "metadata": {
        "id": "by-e-baambcd",
        "colab_type": "code",
        "colab": {}
      },
      "cell_type": "code",
      "source": [
        "# This will return a list of 5 Numpy arrays:\n",
        "# one array per layer activation\n",
        "activations = activation_model.predict(img_tensor)"
      ],
      "execution_count": 0,
      "outputs": []
    },
    {
      "metadata": {
        "id": "-bI-n9lymbcf",
        "colab_type": "text"
      },
      "cell_type": "markdown",
      "source": [
        "For instance, this is the activation of the first convolution layer for our cat image input:"
      ]
    },
    {
      "metadata": {
        "id": "Gbymp9bcmbcf",
        "colab_type": "code",
        "colab": {}
      },
      "cell_type": "code",
      "source": [
        "first_layer_activation = activations[0]\n",
        "print(first_layer_activation.shape)"
      ],
      "execution_count": 0,
      "outputs": []
    },
    {
      "metadata": {
        "id": "PAaPA5gembcj",
        "colab_type": "text"
      },
      "cell_type": "markdown",
      "source": [
        "It's a 148x148 feature map with 32 channels. Let's try visualizing the 3rd channel:"
      ]
    },
    {
      "metadata": {
        "id": "zGS9DDWSmbcj",
        "colab_type": "code",
        "colab": {}
      },
      "cell_type": "code",
      "source": [
        "import matplotlib.pyplot as plt\n",
        "\n",
        "plt.matshow(first_layer_activation[0, :, :, 3], cmap='viridis')\n",
        "plt.show()"
      ],
      "execution_count": 0,
      "outputs": []
    },
    {
      "metadata": {
        "id": "NStVhr7Mmbcm",
        "colab_type": "text"
      },
      "cell_type": "markdown",
      "source": [
        "This channel appears to encode a diagonal edge detector. Let's try the 30th channel -- but note that your own channels may vary, since the \n",
        "specific filters learned by convolution layers are not deterministic."
      ]
    },
    {
      "metadata": {
        "id": "SYOW4REzmbcn",
        "colab_type": "code",
        "colab": {}
      },
      "cell_type": "code",
      "source": [
        "plt.matshow(first_layer_activation[0, :, :, 30], cmap='viridis')\n",
        "plt.show()"
      ],
      "execution_count": 0,
      "outputs": []
    },
    {
      "metadata": {
        "id": "_Abyfa3Gmbcp",
        "colab_type": "text"
      },
      "cell_type": "markdown",
      "source": [
        "This one looks like a \"bright green dot\" detector, useful to encode cat eyes. At this point, let's go and plot a complete visualization of \n",
        "all the activations in the network. We'll extract and plot every channel in each of our 8 activation maps, and we will stack the results in \n",
        "one big image tensor, with channels stacked side by side."
      ]
    },
    {
      "metadata": {
        "id": "2XR6n5-Embcp",
        "colab_type": "code",
        "colab": {}
      },
      "cell_type": "code",
      "source": [
        "import keras\n",
        "\n",
        "# These are the names of the layers, so can have them as part of our plot\n",
        "layer_names = []\n",
        "for layer in model.layers[:8]:\n",
        "    layer_names.append(layer.name)\n",
        "\n",
        "images_per_row = 16\n",
        "\n",
        "# Now let's display our feature maps\n",
        "for layer_name, layer_activation in zip(layer_names, activations):\n",
        "    # This is the number of features in the feature map\n",
        "    n_features = layer_activation.shape[-1]\n",
        "\n",
        "    # The feature map has shape (1, size, size, n_features)\n",
        "    size = layer_activation.shape[1]\n",
        "\n",
        "    # We will tile the activation channels in this matrix\n",
        "    n_cols = n_features // images_per_row\n",
        "    display_grid = np.zeros((size * n_cols, images_per_row * size))\n",
        "\n",
        "    # We'll tile each filter into this big horizontal grid\n",
        "    for col in range(n_cols):\n",
        "        for row in range(images_per_row):\n",
        "            channel_image = layer_activation[0,\n",
        "                                             :, :,\n",
        "                                             col * images_per_row + row]\n",
        "            # Post-process the feature to make it visually palatable\n",
        "            channel_image -= channel_image.mean()\n",
        "            channel_image /= channel_image.std()\n",
        "            channel_image *= 64\n",
        "            channel_image += 128\n",
        "            channel_image = np.clip(channel_image, 0, 255).astype('uint8')\n",
        "            display_grid[col * size : (col + 1) * size,\n",
        "                         row * size : (row + 1) * size] = channel_image\n",
        "\n",
        "    # Display the grid\n",
        "    scale = 1. / size\n",
        "    plt.figure(figsize=(scale * display_grid.shape[1],\n",
        "                        scale * display_grid.shape[0]))\n",
        "    plt.title(layer_name)\n",
        "    plt.grid(False)\n",
        "    plt.imshow(display_grid, aspect='auto', cmap='viridis')\n",
        "    \n",
        "plt.show()"
      ],
      "execution_count": 0,
      "outputs": []
    },
    {
      "metadata": {
        "id": "96sM4Avimbct",
        "colab_type": "text"
      },
      "cell_type": "markdown",
      "source": [
        "A few remarkable things to note here:\n",
        "\n",
        "* The first layer acts as a collection of various edge detectors. At that stage, the activations are still retaining almost all of the \n",
        "information present in the initial picture.\n",
        "* As we go higher-up, the activations become increasingly abstract and less visually interpretable. They start encoding higher-level \n",
        "concepts such as \"cat ear\" or \"cat eye\". Higher-up presentations carry increasingly less information about the visual contents of the \n",
        "image, and increasingly more information related to the class of the image.\n",
        "* The sparsity of the activations is increasing with the depth of the layer: in the first layer, all filters are activated by the input \n",
        "image, but in the following layers more and more filters are blank. This means that the pattern encoded by the filter isn't found in the \n",
        "input image."
      ]
    },
    {
      "metadata": {
        "id": "quwE5geXmbcu",
        "colab_type": "text"
      },
      "cell_type": "markdown",
      "source": [
        "\n",
        "We have just evidenced a very important universal characteristic of the representations learned by deep neural networks: the features \n",
        "extracted by a layer get increasingly abstract with the depth of the layer. The activations of layers higher-up carry less and less \n",
        "information about the specific input being seen, and more and more information about the target (in our case, the class of the image: cat \n",
        "or dog). A deep neural network effectively acts as an __information distillation pipeline__, with raw data going in (in our case, RBG \n",
        "pictures), and getting repeatedly transformed so that irrelevant information gets filtered out (e.g. the specific visual appearance of the \n",
        "image) while useful information get magnified and refined (e.g. the class of the image).\n",
        "\n",
        "This is analogous to the way humans and animals perceive the world: after observing a scene for a few seconds, a human can remember which \n",
        "abstract objects were present in it (e.g. bicycle, tree) but could not remember the specific appearance of these objects. In fact, if you \n",
        "tried to draw a generic bicycle from mind right now, chances are you could not get it even remotely right, even though you have seen \n",
        "thousands of bicycles in your lifetime. Try it right now: this effect is absolutely real. You brain has learned to completely abstract its \n",
        "visual input, to transform it into high-level visual concepts while completely filtering out irrelevant visual details, making it \n",
        "tremendously difficult to remember how things around us actually look."
      ]
    },
    {
      "metadata": {
        "id": "MwwsTlg1mbcu",
        "colab_type": "text"
      },
      "cell_type": "markdown",
      "source": [
        "## Visualizing convnet filters\n",
        "\n",
        "\n",
        "Another easy thing to do to inspect the filters learned by convnets is to display the visual pattern that each filter is meant to respond \n",
        "to. This can be done with __gradient ascent in input space__: applying __gradient descent__ to the value of the input image of a convnet so \n",
        "as to maximize the response of a specific filter, starting from a blank input image. The resulting input image would be one that the chosen \n",
        "filter is maximally responsive to.\n",
        "\n",
        "The process is simple: we will build a loss function that maximizes the value of a given filter in a given convolution layer, then we \n",
        "will use stochastic gradient descent to adjust the values of the input image so as to maximize this activation value. For instance, here's \n",
        "a loss for the activation of filter 0 in the layer \"block3_conv1\" of the VGG16 network, pre-trained on ImageNet:"
      ]
    },
    {
      "metadata": {
        "id": "_WTrb-a8mbcv",
        "colab_type": "code",
        "colab": {}
      },
      "cell_type": "code",
      "source": [
        "from keras.applications import VGG16\n",
        "from keras import backend as K\n",
        "\n",
        "model = VGG16(weights='imagenet',\n",
        "              include_top=False)\n",
        "\n",
        "layer_name = 'block3_conv1'\n",
        "filter_index = 0\n",
        "\n",
        "layer_output = model.get_layer(layer_name).output\n",
        "loss = K.mean(layer_output[:, :, :, filter_index])"
      ],
      "execution_count": 0,
      "outputs": []
    },
    {
      "metadata": {
        "id": "ipmArd9Dmbcx",
        "colab_type": "text"
      },
      "cell_type": "markdown",
      "source": [
        "To implement gradient descent, we will need the gradient of this loss with respect to the model's input. To do this, we will use the \n",
        "`gradients` function packaged with the `backend` module of Keras:"
      ]
    },
    {
      "metadata": {
        "id": "sOI80EURmbcy",
        "colab_type": "code",
        "colab": {}
      },
      "cell_type": "code",
      "source": [
        "# The call to `gradients` returns a list of tensors (of size 1 in this case)\n",
        "# hence we only keep the first element -- which is a tensor.\n",
        "grads = K.gradients(loss, model.input)[0]"
      ],
      "execution_count": 0,
      "outputs": []
    },
    {
      "metadata": {
        "id": "ssRtcXgGmbc1",
        "colab_type": "text"
      },
      "cell_type": "markdown",
      "source": [
        "A non-obvious trick to use for the gradient descent process to go smoothly is to normalize the gradient tensor, by dividing it by its L2 \n",
        "norm (the square root of the average of the square of the values in the tensor). This ensures that the magnitude of the updates done to the \n",
        "input image is always within a same range."
      ]
    },
    {
      "metadata": {
        "id": "TufU4cYQmbc3",
        "colab_type": "code",
        "colab": {}
      },
      "cell_type": "code",
      "source": [
        "# We add 1e-5 before dividing so as to avoid accidentally dividing by 0.\n",
        "grads /= (K.sqrt(K.mean(K.square(grads))) + 1e-5)"
      ],
      "execution_count": 0,
      "outputs": []
    },
    {
      "metadata": {
        "id": "pRIajq5nmbc7",
        "colab_type": "text"
      },
      "cell_type": "markdown",
      "source": [
        "Now we need a way to compute the value of the loss tensor and the gradient tensor, given an input image. We can define a Keras backend \n",
        "function to do this: `iterate` is a function that takes a Numpy tensor (as a list of tensors of size 1) and returns a list of two Numpy \n",
        "tensors: the loss value and the gradient value."
      ]
    },
    {
      "metadata": {
        "id": "1gXXi_mfmbc8",
        "colab_type": "code",
        "colab": {}
      },
      "cell_type": "code",
      "source": [
        "iterate = K.function([model.input], [loss, grads])\n",
        "\n",
        "# Let's test it:\n",
        "import numpy as np\n",
        "loss_value, grads_value = iterate([np.zeros((1, 150, 150, 3))])"
      ],
      "execution_count": 0,
      "outputs": []
    },
    {
      "metadata": {
        "id": "c1X7pDCmmbc-",
        "colab_type": "text"
      },
      "cell_type": "markdown",
      "source": [
        "At this point we can define a Python loop to do stochastic gradient descent:"
      ]
    },
    {
      "metadata": {
        "id": "antpG2RpmbdA",
        "colab_type": "code",
        "colab": {}
      },
      "cell_type": "code",
      "source": [
        "# We start from a gray image with some noise\n",
        "input_img_data = np.random.random((1, 150, 150, 3)) * 20 + 128.\n",
        "\n",
        "# Run gradient ascent for 40 steps\n",
        "step = 1.  # this is the magnitude of each gradient update\n",
        "for i in range(40):\n",
        "    # Compute the loss value and gradient value\n",
        "    loss_value, grads_value = iterate([input_img_data])\n",
        "    # Here we adjust the input image in the direction that maximizes the loss\n",
        "    input_img_data += grads_value * step"
      ],
      "execution_count": 0,
      "outputs": []
    },
    {
      "metadata": {
        "id": "3FrDRnu3mbdB",
        "colab_type": "text"
      },
      "cell_type": "markdown",
      "source": [
        "The resulting image tensor will be a floating point tensor of shape `(1, 150, 150, 3)`, with values that may not be integer within `[0, \n",
        "255]`. Hence we would need to post-process this tensor to turn it into a displayable image. We do it with the following straightforward \n",
        "utility function:"
      ]
    },
    {
      "metadata": {
        "id": "Hs9ANoCembdB",
        "colab_type": "code",
        "colab": {}
      },
      "cell_type": "code",
      "source": [
        "def deprocess_image(x):\n",
        "    # normalize tensor: center on 0., ensure std is 0.1\n",
        "    x -= x.mean()\n",
        "    x /= (x.std() + 1e-5)\n",
        "    x *= 0.1\n",
        "\n",
        "    # clip to [0, 1]\n",
        "    x += 0.5\n",
        "    x = np.clip(x, 0, 1)\n",
        "\n",
        "    # convert to RGB array\n",
        "    x *= 255\n",
        "    x = np.clip(x, 0, 255).astype('uint8')\n",
        "    return x"
      ],
      "execution_count": 0,
      "outputs": []
    },
    {
      "metadata": {
        "id": "SIIx325BmbdE",
        "colab_type": "text"
      },
      "cell_type": "markdown",
      "source": [
        "Now we have all the pieces, let's put them together into a Python function that takes as input a layer name and a filter index, and that \n",
        "returns a valid image tensor representing the pattern that maximizes the activation the specified filter:"
      ]
    },
    {
      "metadata": {
        "id": "38XE-MWfmbdF",
        "colab_type": "code",
        "colab": {}
      },
      "cell_type": "code",
      "source": [
        "def generate_pattern(layer_name, filter_index, size=150):\n",
        "    # Build a loss function that maximizes the activation\n",
        "    # of the nth filter of the layer considered.\n",
        "    layer_output = model.get_layer(layer_name).output\n",
        "    loss = K.mean(layer_output[:, :, :, filter_index])\n",
        "\n",
        "    # Compute the gradient of the input picture wrt this loss\n",
        "    grads = K.gradients(loss, model.input)[0]\n",
        "\n",
        "    # Normalization trick: we normalize the gradient\n",
        "    grads /= (K.sqrt(K.mean(K.square(grads))) + 1e-5)\n",
        "\n",
        "    # This function returns the loss and grads given the input picture\n",
        "    iterate = K.function([model.input], [loss, grads])\n",
        "    \n",
        "    # We start from a gray image with some noise\n",
        "    input_img_data = np.random.random((1, size, size, 3)) * 20 + 128.\n",
        "\n",
        "    # Run gradient ascent for 40 steps\n",
        "    step = 1.\n",
        "    for i in range(40):\n",
        "        loss_value, grads_value = iterate([input_img_data])\n",
        "        input_img_data += grads_value * step\n",
        "        \n",
        "    img = input_img_data[0]\n",
        "    return deprocess_image(img)"
      ],
      "execution_count": 0,
      "outputs": []
    },
    {
      "metadata": {
        "id": "cdYOBYPImbdG",
        "colab_type": "text"
      },
      "cell_type": "markdown",
      "source": [
        "Let's try this:"
      ]
    },
    {
      "metadata": {
        "id": "q5CYWXeEmbdH",
        "colab_type": "code",
        "colab": {}
      },
      "cell_type": "code",
      "source": [
        "plt.imshow(generate_pattern('block3_conv1', 0))\n",
        "plt.show()"
      ],
      "execution_count": 0,
      "outputs": []
    },
    {
      "metadata": {
        "id": "ofIhwoKqmbdK",
        "colab_type": "text"
      },
      "cell_type": "markdown",
      "source": [
        "It seems that filter 0 in layer `block3_conv1` is responsive to a polka dot pattern.\n",
        "\n",
        "Now the fun part: we can start visualising every single filter in every layer. For simplicity, we will only look at the first 64 filters in \n",
        "each layer, and will only look at the first layer of each convolution block (block1_conv1, block2_conv1, block3_conv1, block4_conv1, \n",
        "block5_conv1). We will arrange the outputs on a 8x8 grid of 64x64 filter patterns, with some black margins between each filter pattern."
      ]
    },
    {
      "metadata": {
        "id": "Ka2HqKCfmbdK",
        "colab_type": "code",
        "colab": {}
      },
      "cell_type": "code",
      "source": [
        "for layer_name in ['block1_conv1', 'block2_conv1', 'block3_conv1', 'block4_conv1']:\n",
        "    size = 64\n",
        "    margin = 5\n",
        "\n",
        "    # This a empty (black) image where we will store our results.\n",
        "    results = np.zeros((8 * size + 7 * margin, 8 * size + 7 * margin, 3))\n",
        "\n",
        "    for i in range(8):  # iterate over the rows of our results grid\n",
        "        for j in range(8):  # iterate over the columns of our results grid\n",
        "            # Generate the pattern for filter `i + (j * 8)` in `layer_name`\n",
        "            filter_img = generate_pattern(layer_name, i + (j * 8), size=size)\n",
        "\n",
        "            # Put the result in the square `(i, j)` of the results grid\n",
        "            horizontal_start = i * size + i * margin\n",
        "            horizontal_end = horizontal_start + size\n",
        "            vertical_start = j * size + j * margin\n",
        "            vertical_end = vertical_start + size\n",
        "            results[horizontal_start: horizontal_end, vertical_start: vertical_end, :] = filter_img\n",
        "\n",
        "    # Display the results grid\n",
        "    plt.figure(figsize=(20, 20))\n",
        "    plt.imshow(results)\n",
        "    plt.show()"
      ],
      "execution_count": 0,
      "outputs": []
    },
    {
      "metadata": {
        "id": "75pMEbc1mbdN",
        "colab_type": "text"
      },
      "cell_type": "markdown",
      "source": [
        "These filter visualizations tell us a lot about how convnet layers see the world: each layer in a convnet simply learns a collection of \n",
        "filters such that their inputs can be expressed as a combination of the filters. This is similar to how the Fourier transform decomposes \n",
        "signals onto a bank of cosine functions. The filters in these convnet filter banks get increasingly complex and refined as we go higher-up \n",
        "in the model:\n",
        "\n",
        "* The filters from the first layer in the model (`block1_conv1`) encode simple directional edges and colors (or colored edges in some \n",
        "cases).\n",
        "* The filters from `block2_conv1` encode simple textures made from combinations of edges and colors.\n",
        "* The filters in higher-up layers start resembling textures found in natural images: feathers, eyes, leaves, etc."
      ]
    },
    {
      "metadata": {
        "id": "g7bWR2hGmbdO",
        "colab_type": "text"
      },
      "cell_type": "markdown",
      "source": [
        "## Visualizing heatmaps of class activation\n",
        "\n",
        "We will introduce one more visualization technique, one that is useful for understanding which parts of a given image led a convnet to its \n",
        "final classification decision. This is helpful for \"debugging\" the decision process of a convnet, in particular in case of a classification \n",
        "mistake. It also allows you to locate specific objects in an image.\n",
        "\n",
        "This general category of techniques is called \"Class Activation Map\" (CAM) visualization, and consists in producing heatmaps of \"class \n",
        "activation\" over input images. A \"class activation\" heatmap is a 2D grid of scores associated with an specific output class, computed for \n",
        "every location in any input image, indicating how important each location is with respect to the class considered. For instance, given a \n",
        "image fed into one of our \"cat vs. dog\" convnet, Class Activation Map visualization allows us to generate a heatmap for the class \"cat\", \n",
        "indicating how cat-like different parts of the image are, and likewise for the class \"dog\", indicating how dog-like differents parts of the \n",
        "image are.\n",
        "\n",
        "The specific implementation we will use is the one described in [Grad-CAM: Why did you say that? Visual Explanations from Deep Networks via \n",
        "Gradient-based Localization](https://arxiv.org/abs/1610.02391). It is very simple: it consists in taking the output feature map of a \n",
        "convolution layer given an input image, and weighing every channel in that feature map by the gradient of the class with respect to the \n",
        "channel. Intuitively, one way to understand this trick is that we are weighting a spatial map of \"how intensely the input image activates \n",
        "different channels\" by \"how important each channel is with regard to the class\", resulting in a spatial map of \"how intensely the input \n",
        "image activates the class\".\n",
        "\n",
        "We will demonstrate this technique using the pre-trained VGG16 network again:"
      ]
    },
    {
      "metadata": {
        "id": "gpPiOdmdmbdP",
        "colab_type": "code",
        "colab": {}
      },
      "cell_type": "code",
      "source": [
        "from keras.applications.vgg16 import VGG16\n",
        "\n",
        "K.clear_session()\n",
        "\n",
        "# Note that we are including the densely-connected classifier on top;\n",
        "# all previous times, we were discarding it.\n",
        "model = VGG16(weights='imagenet')"
      ],
      "execution_count": 0,
      "outputs": []
    },
    {
      "metadata": {
        "id": "x3UCZykCmbdS",
        "colab_type": "text"
      },
      "cell_type": "markdown",
      "source": [
        "Let's consider the following image of two African elephants, possible a mother and its cub, strolling in the savanna (under a Creative \n",
        "Commons license):\n",
        "\n",
        "![elephants](https://s3.amazonaws.com/book.keras.io/img/ch5/creative_commons_elephant.jpg)"
      ]
    },
    {
      "metadata": {
        "id": "DJdcT95BmbdS",
        "colab_type": "text"
      },
      "cell_type": "markdown",
      "source": [
        "Let's convert this image into something the VGG16 model can read: the model was trained on images of size 224x244, preprocessed according \n",
        "to a few rules that are packaged in the utility function `keras.applications.vgg16.preprocess_input`. So we need to load the image, resize \n",
        "it to 224x224, convert it to a Numpy float32 tensor, and apply these pre-processing rules."
      ]
    },
    {
      "metadata": {
        "id": "2-1F0ufsmbdT",
        "colab_type": "code",
        "colab": {}
      },
      "cell_type": "code",
      "source": [
        "from keras.preprocessing import image\n",
        "from keras.applications.vgg16 import preprocess_input, decode_predictions\n",
        "import numpy as np\n",
        "\n",
        "import requests\n",
        "\n",
        "img_url = 'https://s3.amazonaws.com/book.keras.io/img/ch5/creative_commons_elephant.jpg'\n",
        "img_data = requests.get(img_url).content\n",
        "with open('creative_commons_elephant.jpg', 'wb') as handler:\n",
        "    handler.write(img_data)\n",
        "\n",
        "# The local path to our target image\n",
        "img_path = 'creative_commons_elephant.jpg'\n",
        "\n",
        "# `img` is a PIL image of size 224x224\n",
        "img = image.load_img(img_path, target_size=(224, 224))\n",
        "\n",
        "# `x` is a float32 Numpy array of shape (224, 224, 3)\n",
        "x = image.img_to_array(img)\n",
        "\n",
        "# We add a dimension to transform our array into a \"batch\"\n",
        "# of size (1, 224, 224, 3)\n",
        "x = np.expand_dims(x, axis=0)\n",
        "\n",
        "# Finally we preprocess the batch\n",
        "# (this does channel-wise color normalization)\n",
        "x = preprocess_input(x)"
      ],
      "execution_count": 0,
      "outputs": []
    },
    {
      "metadata": {
        "id": "HwFsrEijmbdV",
        "colab_type": "code",
        "colab": {}
      },
      "cell_type": "code",
      "source": [
        "preds = model.predict(x)\n",
        "print('Predicted:', decode_predictions(preds, top=3)[0])"
      ],
      "execution_count": 0,
      "outputs": []
    },
    {
      "metadata": {
        "id": "RDoJ_YMWmbdX",
        "colab_type": "text"
      },
      "cell_type": "markdown",
      "source": [
        "\n",
        "The top-3 classes predicted for this image are:\n",
        "\n",
        "* African elephant (with 92.5% probability)\n",
        "* Tusker (with 7% probability)\n",
        "* Indian elephant (with 0.4% probability)\n",
        "\n",
        "Thus our network has recognized our image as containing an undetermined quantity of African elephants. The entry in the prediction vector \n",
        "that was maximally activated is the one corresponding to the \"African elephant\" class, at index 386:"
      ]
    },
    {
      "metadata": {
        "id": "nj7G9hvhmbdY",
        "colab_type": "code",
        "colab": {}
      },
      "cell_type": "code",
      "source": [
        "np.argmax(preds[0])"
      ],
      "execution_count": 0,
      "outputs": []
    },
    {
      "metadata": {
        "id": "ioULakO1mbdb",
        "colab_type": "text"
      },
      "cell_type": "markdown",
      "source": [
        "To visualize which parts of our image were the most \"African elephant\"-like, let's set up the Grad-CAM process:"
      ]
    },
    {
      "metadata": {
        "id": "PiIi5vkEmbdb",
        "colab_type": "code",
        "colab": {}
      },
      "cell_type": "code",
      "source": [
        "# This is the \"african elephant\" entry in the prediction vector\n",
        "african_elephant_output = model.output[:, 386]\n",
        "\n",
        "# The is the output feature map of the `block5_conv3` layer,\n",
        "# the last convolutional layer in VGG16\n",
        "last_conv_layer = model.get_layer('block5_conv3')\n",
        "\n",
        "# This is the gradient of the \"african elephant\" class with regard to\n",
        "# the output feature map of `block5_conv3`\n",
        "grads = K.gradients(african_elephant_output, last_conv_layer.output)[0]\n",
        "\n",
        "# This is a vector of shape (512,), where each entry\n",
        "# is the mean intensity of the gradient over a specific feature map channel\n",
        "pooled_grads = K.mean(grads, axis=(0, 1, 2))\n",
        "\n",
        "# This function allows us to access the values of the quantities we just defined:\n",
        "# `pooled_grads` and the output feature map of `block5_conv3`,\n",
        "# given a sample image\n",
        "iterate = K.function([model.input], [pooled_grads, last_conv_layer.output[0]])\n",
        "\n",
        "# These are the values of these two quantities, as Numpy arrays,\n",
        "# given our sample image of two elephants\n",
        "pooled_grads_value, conv_layer_output_value = iterate([x])\n",
        "\n",
        "# We multiply each channel in the feature map array\n",
        "# by \"how important this channel is\" with regard to the elephant class\n",
        "for i in range(512):\n",
        "    conv_layer_output_value[:, :, i] *= pooled_grads_value[i]\n",
        "\n",
        "# The channel-wise mean of the resulting feature map\n",
        "# is our heatmap of class activation\n",
        "heatmap = np.mean(conv_layer_output_value, axis=-1)"
      ],
      "execution_count": 0,
      "outputs": []
    },
    {
      "metadata": {
        "id": "9jPqY2Gfmbdd",
        "colab_type": "text"
      },
      "cell_type": "markdown",
      "source": [
        "For visualization purpose, we will also normalize the heatmap between 0 and 1:"
      ]
    },
    {
      "metadata": {
        "id": "9Nlqph-6mbdd",
        "colab_type": "code",
        "colab": {}
      },
      "cell_type": "code",
      "source": [
        "heatmap = np.maximum(heatmap, 0)\n",
        "heatmap /= np.max(heatmap)\n",
        "plt.matshow(heatmap)\n",
        "plt.show()"
      ],
      "execution_count": 0,
      "outputs": []
    },
    {
      "metadata": {
        "id": "xBFOpC0embdg",
        "colab_type": "text"
      },
      "cell_type": "markdown",
      "source": [
        "Finally, we will use OpenCV to generate an image that superimposes the original image with the heatmap we just obtained:"
      ]
    },
    {
      "metadata": {
        "id": "FinDALwKmbdh",
        "colab_type": "code",
        "colab": {}
      },
      "cell_type": "code",
      "source": [
        "import cv2\n",
        "\n",
        "# We use cv2 to load the original image\n",
        "img = cv2.imread(img_path)\n",
        "\n",
        "# We resize the heatmap to have the same size as the original image\n",
        "heatmap = cv2.resize(heatmap, (img.shape[1], img.shape[0]))\n",
        "\n",
        "# We convert the heatmap to RGB\n",
        "heatmap = np.uint8(255 * heatmap)\n",
        "\n",
        "# We apply the heatmap to the original image\n",
        "heatmap = cv2.applyColorMap(heatmap, cv2.COLORMAP_JET)\n",
        "\n",
        "# 0.4 here is a heatmap intensity factor\n",
        "superimposed_img = heatmap * 0.4 + img\n",
        "\n",
        "# Save the image to disk\n",
        "cv2.imwrite('elephant_cam.jpg', superimposed_img)"
      ],
      "execution_count": 0,
      "outputs": []
    },
    {
      "metadata": {
        "id": "OGmTnAuygRuP",
        "colab_type": "code",
        "colab": {}
      },
      "cell_type": "code",
      "source": [
        "import cv2\n",
        "from matplotlib import pyplot as plt\n",
        "img = cv2.imread('elephant_cam.jpg')\n",
        "\n",
        "# 將 BGR 圖片轉為 RGB 圖片\n",
        "img_rgb = img[:,:,::-1]\n",
        "\n",
        "# 或是這樣亦可\n",
        "# img_rgb = cv2.cvtColor(img_bgr, cv2.COLOR_BGR2RGB)\n",
        "\n",
        "# 使用 Matplotlib 顯示圖片\n",
        "plt.imshow(img_rgb)\n",
        "plt.show()"
      ],
      "execution_count": 0,
      "outputs": []
    },
    {
      "metadata": {
        "id": "Za2ta6gOmbdj",
        "colab_type": "text"
      },
      "cell_type": "markdown",
      "source": [
        "This visualisation technique answers two important questions:\n",
        "\n",
        "* Why did the network think this image contained an African elephant?\n",
        "* Where is the African elephant located in the picture?\n",
        "\n",
        "In particular, it is interesting to note that the ears of the elephant cub are strongly activated: this is probably how the network can \n",
        "tell the difference between African and Indian elephants.\n"
      ]
    }
  ]
}